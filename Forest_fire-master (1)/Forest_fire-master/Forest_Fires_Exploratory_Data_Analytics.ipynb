{
  "nbformat": 4,
  "nbformat_minor": 0,
  "metadata": {
    "colab": {
      "name": "Forest-Fires Exploratory_Data_Analytics.ipynb",
      "provenance": [],
      "authorship_tag": "ABX9TyNcDAxb6acVaYqqrTsSGgP2"
    },
    "kernelspec": {
      "name": "python3",
      "display_name": "Python 3"
    }
  },
  "cells": [
    {
      "cell_type": "markdown",
      "metadata": {
        "id": "h3x6EZ8JA4QT",
        "colab_type": "text"
      },
      "source": [
        "# To Prdeict the forest fire burn Area"
      ]
    },
    {
      "cell_type": "code",
      "metadata": {
        "id": "EeXitaGDA-Xv",
        "colab_type": "code",
        "colab": {}
      },
      "source": [
        "import numpy as np\n",
        "import pandas as pd\n",
        "import matplotlib.pyplot as plt\n",
        "import math\n",
        "import random"
      ],
      "execution_count": 0,
      "outputs": []
    },
    {
      "cell_type": "code",
      "metadata": {
        "id": "e4dZbSKlA-km",
        "colab_type": "code",
        "colab": {}
      },
      "source": [
        "df = pd.read_csv(\"/content/forest_fires.csv\")\n"
      ],
      "execution_count": 0,
      "outputs": []
    },
    {
      "cell_type": "code",
      "metadata": {
        "id": "R5pBT77FBPv9",
        "colab_type": "code",
        "colab": {
          "base_uri": "https://localhost:8080/",
          "height": 1000
        },
        "outputId": "0c3390e8-a27d-4d0a-c325-5520c56b0420"
      },
      "source": [
        "df.head(50)"
      ],
      "execution_count": 110,
      "outputs": [
        {
          "output_type": "execute_result",
          "data": {
            "text/html": [
              "<div>\n",
              "<style scoped>\n",
              "    .dataframe tbody tr th:only-of-type {\n",
              "        vertical-align: middle;\n",
              "    }\n",
              "\n",
              "    .dataframe tbody tr th {\n",
              "        vertical-align: top;\n",
              "    }\n",
              "\n",
              "    .dataframe thead th {\n",
              "        text-align: right;\n",
              "    }\n",
              "</style>\n",
              "<table border=\"1\" class=\"dataframe\">\n",
              "  <thead>\n",
              "    <tr style=\"text-align: right;\">\n",
              "      <th></th>\n",
              "      <th>X</th>\n",
              "      <th>Y</th>\n",
              "      <th>month</th>\n",
              "      <th>day</th>\n",
              "      <th>FFMC</th>\n",
              "      <th>DMC</th>\n",
              "      <th>DC</th>\n",
              "      <th>ISI</th>\n",
              "      <th>temp</th>\n",
              "      <th>RH</th>\n",
              "      <th>wind</th>\n",
              "      <th>rain</th>\n",
              "      <th>area</th>\n",
              "    </tr>\n",
              "  </thead>\n",
              "  <tbody>\n",
              "    <tr>\n",
              "      <th>0</th>\n",
              "      <td>7</td>\n",
              "      <td>5</td>\n",
              "      <td>mar</td>\n",
              "      <td>fri</td>\n",
              "      <td>86.2</td>\n",
              "      <td>26.2</td>\n",
              "      <td>94.3</td>\n",
              "      <td>5.1</td>\n",
              "      <td>8.2</td>\n",
              "      <td>51</td>\n",
              "      <td>6.7</td>\n",
              "      <td>0.0</td>\n",
              "      <td>0.0</td>\n",
              "    </tr>\n",
              "    <tr>\n",
              "      <th>1</th>\n",
              "      <td>7</td>\n",
              "      <td>4</td>\n",
              "      <td>oct</td>\n",
              "      <td>tue</td>\n",
              "      <td>90.6</td>\n",
              "      <td>35.4</td>\n",
              "      <td>669.1</td>\n",
              "      <td>6.7</td>\n",
              "      <td>18.0</td>\n",
              "      <td>33</td>\n",
              "      <td>0.9</td>\n",
              "      <td>0.0</td>\n",
              "      <td>0.0</td>\n",
              "    </tr>\n",
              "    <tr>\n",
              "      <th>2</th>\n",
              "      <td>7</td>\n",
              "      <td>4</td>\n",
              "      <td>oct</td>\n",
              "      <td>sat</td>\n",
              "      <td>90.6</td>\n",
              "      <td>43.7</td>\n",
              "      <td>686.9</td>\n",
              "      <td>6.7</td>\n",
              "      <td>14.6</td>\n",
              "      <td>33</td>\n",
              "      <td>1.3</td>\n",
              "      <td>0.0</td>\n",
              "      <td>0.0</td>\n",
              "    </tr>\n",
              "    <tr>\n",
              "      <th>3</th>\n",
              "      <td>8</td>\n",
              "      <td>6</td>\n",
              "      <td>mar</td>\n",
              "      <td>fri</td>\n",
              "      <td>91.7</td>\n",
              "      <td>33.3</td>\n",
              "      <td>77.5</td>\n",
              "      <td>9.0</td>\n",
              "      <td>8.3</td>\n",
              "      <td>97</td>\n",
              "      <td>4.0</td>\n",
              "      <td>0.2</td>\n",
              "      <td>0.0</td>\n",
              "    </tr>\n",
              "    <tr>\n",
              "      <th>4</th>\n",
              "      <td>8</td>\n",
              "      <td>6</td>\n",
              "      <td>mar</td>\n",
              "      <td>sun</td>\n",
              "      <td>89.3</td>\n",
              "      <td>51.3</td>\n",
              "      <td>102.2</td>\n",
              "      <td>9.6</td>\n",
              "      <td>11.4</td>\n",
              "      <td>99</td>\n",
              "      <td>1.8</td>\n",
              "      <td>0.0</td>\n",
              "      <td>0.0</td>\n",
              "    </tr>\n",
              "    <tr>\n",
              "      <th>5</th>\n",
              "      <td>8</td>\n",
              "      <td>6</td>\n",
              "      <td>aug</td>\n",
              "      <td>sun</td>\n",
              "      <td>92.3</td>\n",
              "      <td>85.3</td>\n",
              "      <td>488.0</td>\n",
              "      <td>14.7</td>\n",
              "      <td>22.2</td>\n",
              "      <td>29</td>\n",
              "      <td>5.4</td>\n",
              "      <td>0.0</td>\n",
              "      <td>0.0</td>\n",
              "    </tr>\n",
              "    <tr>\n",
              "      <th>6</th>\n",
              "      <td>8</td>\n",
              "      <td>6</td>\n",
              "      <td>aug</td>\n",
              "      <td>mon</td>\n",
              "      <td>92.3</td>\n",
              "      <td>88.9</td>\n",
              "      <td>495.6</td>\n",
              "      <td>8.5</td>\n",
              "      <td>24.1</td>\n",
              "      <td>27</td>\n",
              "      <td>3.1</td>\n",
              "      <td>0.0</td>\n",
              "      <td>0.0</td>\n",
              "    </tr>\n",
              "    <tr>\n",
              "      <th>7</th>\n",
              "      <td>8</td>\n",
              "      <td>6</td>\n",
              "      <td>aug</td>\n",
              "      <td>mon</td>\n",
              "      <td>91.5</td>\n",
              "      <td>145.4</td>\n",
              "      <td>608.2</td>\n",
              "      <td>10.7</td>\n",
              "      <td>8.0</td>\n",
              "      <td>86</td>\n",
              "      <td>2.2</td>\n",
              "      <td>0.0</td>\n",
              "      <td>0.0</td>\n",
              "    </tr>\n",
              "    <tr>\n",
              "      <th>8</th>\n",
              "      <td>8</td>\n",
              "      <td>6</td>\n",
              "      <td>sep</td>\n",
              "      <td>tue</td>\n",
              "      <td>91.0</td>\n",
              "      <td>129.5</td>\n",
              "      <td>692.6</td>\n",
              "      <td>7.0</td>\n",
              "      <td>13.1</td>\n",
              "      <td>63</td>\n",
              "      <td>5.4</td>\n",
              "      <td>0.0</td>\n",
              "      <td>0.0</td>\n",
              "    </tr>\n",
              "    <tr>\n",
              "      <th>9</th>\n",
              "      <td>7</td>\n",
              "      <td>5</td>\n",
              "      <td>sep</td>\n",
              "      <td>sat</td>\n",
              "      <td>92.5</td>\n",
              "      <td>88.0</td>\n",
              "      <td>698.6</td>\n",
              "      <td>7.1</td>\n",
              "      <td>22.8</td>\n",
              "      <td>40</td>\n",
              "      <td>4.0</td>\n",
              "      <td>0.0</td>\n",
              "      <td>0.0</td>\n",
              "    </tr>\n",
              "    <tr>\n",
              "      <th>10</th>\n",
              "      <td>7</td>\n",
              "      <td>5</td>\n",
              "      <td>sep</td>\n",
              "      <td>sat</td>\n",
              "      <td>92.5</td>\n",
              "      <td>88.0</td>\n",
              "      <td>698.6</td>\n",
              "      <td>7.1</td>\n",
              "      <td>17.8</td>\n",
              "      <td>51</td>\n",
              "      <td>7.2</td>\n",
              "      <td>0.0</td>\n",
              "      <td>0.0</td>\n",
              "    </tr>\n",
              "    <tr>\n",
              "      <th>11</th>\n",
              "      <td>7</td>\n",
              "      <td>5</td>\n",
              "      <td>sep</td>\n",
              "      <td>sat</td>\n",
              "      <td>92.8</td>\n",
              "      <td>73.2</td>\n",
              "      <td>713.0</td>\n",
              "      <td>22.6</td>\n",
              "      <td>19.3</td>\n",
              "      <td>38</td>\n",
              "      <td>4.0</td>\n",
              "      <td>0.0</td>\n",
              "      <td>0.0</td>\n",
              "    </tr>\n",
              "    <tr>\n",
              "      <th>12</th>\n",
              "      <td>6</td>\n",
              "      <td>5</td>\n",
              "      <td>aug</td>\n",
              "      <td>fri</td>\n",
              "      <td>63.5</td>\n",
              "      <td>70.8</td>\n",
              "      <td>665.3</td>\n",
              "      <td>0.8</td>\n",
              "      <td>17.0</td>\n",
              "      <td>72</td>\n",
              "      <td>6.7</td>\n",
              "      <td>0.0</td>\n",
              "      <td>0.0</td>\n",
              "    </tr>\n",
              "    <tr>\n",
              "      <th>13</th>\n",
              "      <td>6</td>\n",
              "      <td>5</td>\n",
              "      <td>sep</td>\n",
              "      <td>mon</td>\n",
              "      <td>90.9</td>\n",
              "      <td>126.5</td>\n",
              "      <td>686.5</td>\n",
              "      <td>7.0</td>\n",
              "      <td>21.3</td>\n",
              "      <td>42</td>\n",
              "      <td>2.2</td>\n",
              "      <td>0.0</td>\n",
              "      <td>0.0</td>\n",
              "    </tr>\n",
              "    <tr>\n",
              "      <th>14</th>\n",
              "      <td>6</td>\n",
              "      <td>5</td>\n",
              "      <td>sep</td>\n",
              "      <td>wed</td>\n",
              "      <td>92.9</td>\n",
              "      <td>133.3</td>\n",
              "      <td>699.6</td>\n",
              "      <td>9.2</td>\n",
              "      <td>26.4</td>\n",
              "      <td>21</td>\n",
              "      <td>4.5</td>\n",
              "      <td>0.0</td>\n",
              "      <td>0.0</td>\n",
              "    </tr>\n",
              "    <tr>\n",
              "      <th>15</th>\n",
              "      <td>6</td>\n",
              "      <td>5</td>\n",
              "      <td>sep</td>\n",
              "      <td>fri</td>\n",
              "      <td>93.3</td>\n",
              "      <td>141.2</td>\n",
              "      <td>713.9</td>\n",
              "      <td>13.9</td>\n",
              "      <td>22.9</td>\n",
              "      <td>44</td>\n",
              "      <td>5.4</td>\n",
              "      <td>0.0</td>\n",
              "      <td>0.0</td>\n",
              "    </tr>\n",
              "    <tr>\n",
              "      <th>16</th>\n",
              "      <td>5</td>\n",
              "      <td>5</td>\n",
              "      <td>mar</td>\n",
              "      <td>sat</td>\n",
              "      <td>91.7</td>\n",
              "      <td>35.8</td>\n",
              "      <td>80.8</td>\n",
              "      <td>7.8</td>\n",
              "      <td>15.1</td>\n",
              "      <td>27</td>\n",
              "      <td>5.4</td>\n",
              "      <td>0.0</td>\n",
              "      <td>0.0</td>\n",
              "    </tr>\n",
              "    <tr>\n",
              "      <th>17</th>\n",
              "      <td>8</td>\n",
              "      <td>5</td>\n",
              "      <td>oct</td>\n",
              "      <td>mon</td>\n",
              "      <td>84.9</td>\n",
              "      <td>32.8</td>\n",
              "      <td>664.2</td>\n",
              "      <td>3.0</td>\n",
              "      <td>16.7</td>\n",
              "      <td>47</td>\n",
              "      <td>4.9</td>\n",
              "      <td>0.0</td>\n",
              "      <td>0.0</td>\n",
              "    </tr>\n",
              "    <tr>\n",
              "      <th>18</th>\n",
              "      <td>6</td>\n",
              "      <td>4</td>\n",
              "      <td>mar</td>\n",
              "      <td>wed</td>\n",
              "      <td>89.2</td>\n",
              "      <td>27.9</td>\n",
              "      <td>70.8</td>\n",
              "      <td>6.3</td>\n",
              "      <td>15.9</td>\n",
              "      <td>35</td>\n",
              "      <td>4.0</td>\n",
              "      <td>0.0</td>\n",
              "      <td>0.0</td>\n",
              "    </tr>\n",
              "    <tr>\n",
              "      <th>19</th>\n",
              "      <td>6</td>\n",
              "      <td>4</td>\n",
              "      <td>apr</td>\n",
              "      <td>sat</td>\n",
              "      <td>86.3</td>\n",
              "      <td>27.4</td>\n",
              "      <td>97.1</td>\n",
              "      <td>5.1</td>\n",
              "      <td>9.3</td>\n",
              "      <td>44</td>\n",
              "      <td>4.5</td>\n",
              "      <td>0.0</td>\n",
              "      <td>0.0</td>\n",
              "    </tr>\n",
              "    <tr>\n",
              "      <th>20</th>\n",
              "      <td>6</td>\n",
              "      <td>4</td>\n",
              "      <td>sep</td>\n",
              "      <td>tue</td>\n",
              "      <td>91.0</td>\n",
              "      <td>129.5</td>\n",
              "      <td>692.6</td>\n",
              "      <td>7.0</td>\n",
              "      <td>18.3</td>\n",
              "      <td>40</td>\n",
              "      <td>2.7</td>\n",
              "      <td>0.0</td>\n",
              "      <td>0.0</td>\n",
              "    </tr>\n",
              "    <tr>\n",
              "      <th>21</th>\n",
              "      <td>5</td>\n",
              "      <td>4</td>\n",
              "      <td>sep</td>\n",
              "      <td>mon</td>\n",
              "      <td>91.8</td>\n",
              "      <td>78.5</td>\n",
              "      <td>724.3</td>\n",
              "      <td>9.2</td>\n",
              "      <td>19.1</td>\n",
              "      <td>38</td>\n",
              "      <td>2.7</td>\n",
              "      <td>0.0</td>\n",
              "      <td>0.0</td>\n",
              "    </tr>\n",
              "    <tr>\n",
              "      <th>22</th>\n",
              "      <td>7</td>\n",
              "      <td>4</td>\n",
              "      <td>jun</td>\n",
              "      <td>sun</td>\n",
              "      <td>94.3</td>\n",
              "      <td>96.3</td>\n",
              "      <td>200.0</td>\n",
              "      <td>56.1</td>\n",
              "      <td>21.0</td>\n",
              "      <td>44</td>\n",
              "      <td>4.5</td>\n",
              "      <td>0.0</td>\n",
              "      <td>0.0</td>\n",
              "    </tr>\n",
              "    <tr>\n",
              "      <th>23</th>\n",
              "      <td>7</td>\n",
              "      <td>4</td>\n",
              "      <td>aug</td>\n",
              "      <td>sat</td>\n",
              "      <td>90.2</td>\n",
              "      <td>110.9</td>\n",
              "      <td>537.4</td>\n",
              "      <td>6.2</td>\n",
              "      <td>19.5</td>\n",
              "      <td>43</td>\n",
              "      <td>5.8</td>\n",
              "      <td>0.0</td>\n",
              "      <td>0.0</td>\n",
              "    </tr>\n",
              "    <tr>\n",
              "      <th>24</th>\n",
              "      <td>7</td>\n",
              "      <td>4</td>\n",
              "      <td>aug</td>\n",
              "      <td>sat</td>\n",
              "      <td>93.5</td>\n",
              "      <td>139.4</td>\n",
              "      <td>594.2</td>\n",
              "      <td>20.3</td>\n",
              "      <td>23.7</td>\n",
              "      <td>32</td>\n",
              "      <td>5.8</td>\n",
              "      <td>0.0</td>\n",
              "      <td>0.0</td>\n",
              "    </tr>\n",
              "    <tr>\n",
              "      <th>25</th>\n",
              "      <td>7</td>\n",
              "      <td>4</td>\n",
              "      <td>aug</td>\n",
              "      <td>sun</td>\n",
              "      <td>91.4</td>\n",
              "      <td>142.4</td>\n",
              "      <td>601.4</td>\n",
              "      <td>10.6</td>\n",
              "      <td>16.3</td>\n",
              "      <td>60</td>\n",
              "      <td>5.4</td>\n",
              "      <td>0.0</td>\n",
              "      <td>0.0</td>\n",
              "    </tr>\n",
              "    <tr>\n",
              "      <th>26</th>\n",
              "      <td>7</td>\n",
              "      <td>4</td>\n",
              "      <td>sep</td>\n",
              "      <td>fri</td>\n",
              "      <td>92.4</td>\n",
              "      <td>117.9</td>\n",
              "      <td>668.0</td>\n",
              "      <td>12.2</td>\n",
              "      <td>19.0</td>\n",
              "      <td>34</td>\n",
              "      <td>5.8</td>\n",
              "      <td>0.0</td>\n",
              "      <td>0.0</td>\n",
              "    </tr>\n",
              "    <tr>\n",
              "      <th>27</th>\n",
              "      <td>7</td>\n",
              "      <td>4</td>\n",
              "      <td>sep</td>\n",
              "      <td>mon</td>\n",
              "      <td>90.9</td>\n",
              "      <td>126.5</td>\n",
              "      <td>686.5</td>\n",
              "      <td>7.0</td>\n",
              "      <td>19.4</td>\n",
              "      <td>48</td>\n",
              "      <td>1.3</td>\n",
              "      <td>0.0</td>\n",
              "      <td>0.0</td>\n",
              "    </tr>\n",
              "    <tr>\n",
              "      <th>28</th>\n",
              "      <td>6</td>\n",
              "      <td>3</td>\n",
              "      <td>sep</td>\n",
              "      <td>sat</td>\n",
              "      <td>93.4</td>\n",
              "      <td>145.4</td>\n",
              "      <td>721.4</td>\n",
              "      <td>8.1</td>\n",
              "      <td>30.2</td>\n",
              "      <td>24</td>\n",
              "      <td>2.7</td>\n",
              "      <td>0.0</td>\n",
              "      <td>0.0</td>\n",
              "    </tr>\n",
              "    <tr>\n",
              "      <th>29</th>\n",
              "      <td>6</td>\n",
              "      <td>3</td>\n",
              "      <td>sep</td>\n",
              "      <td>sun</td>\n",
              "      <td>93.5</td>\n",
              "      <td>149.3</td>\n",
              "      <td>728.6</td>\n",
              "      <td>8.1</td>\n",
              "      <td>22.8</td>\n",
              "      <td>39</td>\n",
              "      <td>3.6</td>\n",
              "      <td>0.0</td>\n",
              "      <td>0.0</td>\n",
              "    </tr>\n",
              "    <tr>\n",
              "      <th>30</th>\n",
              "      <td>6</td>\n",
              "      <td>3</td>\n",
              "      <td>sep</td>\n",
              "      <td>fri</td>\n",
              "      <td>94.3</td>\n",
              "      <td>85.1</td>\n",
              "      <td>692.3</td>\n",
              "      <td>15.9</td>\n",
              "      <td>25.4</td>\n",
              "      <td>24</td>\n",
              "      <td>3.6</td>\n",
              "      <td>0.0</td>\n",
              "      <td>0.0</td>\n",
              "    </tr>\n",
              "    <tr>\n",
              "      <th>31</th>\n",
              "      <td>6</td>\n",
              "      <td>3</td>\n",
              "      <td>sep</td>\n",
              "      <td>mon</td>\n",
              "      <td>88.6</td>\n",
              "      <td>91.8</td>\n",
              "      <td>709.9</td>\n",
              "      <td>7.1</td>\n",
              "      <td>11.2</td>\n",
              "      <td>78</td>\n",
              "      <td>7.6</td>\n",
              "      <td>0.0</td>\n",
              "      <td>0.0</td>\n",
              "    </tr>\n",
              "    <tr>\n",
              "      <th>32</th>\n",
              "      <td>6</td>\n",
              "      <td>3</td>\n",
              "      <td>sep</td>\n",
              "      <td>fri</td>\n",
              "      <td>88.6</td>\n",
              "      <td>69.7</td>\n",
              "      <td>706.8</td>\n",
              "      <td>5.8</td>\n",
              "      <td>20.6</td>\n",
              "      <td>37</td>\n",
              "      <td>1.8</td>\n",
              "      <td>0.0</td>\n",
              "      <td>0.0</td>\n",
              "    </tr>\n",
              "    <tr>\n",
              "      <th>33</th>\n",
              "      <td>6</td>\n",
              "      <td>3</td>\n",
              "      <td>sep</td>\n",
              "      <td>sun</td>\n",
              "      <td>91.7</td>\n",
              "      <td>75.6</td>\n",
              "      <td>718.3</td>\n",
              "      <td>7.8</td>\n",
              "      <td>17.7</td>\n",
              "      <td>39</td>\n",
              "      <td>3.6</td>\n",
              "      <td>0.0</td>\n",
              "      <td>0.0</td>\n",
              "    </tr>\n",
              "    <tr>\n",
              "      <th>34</th>\n",
              "      <td>6</td>\n",
              "      <td>3</td>\n",
              "      <td>sep</td>\n",
              "      <td>mon</td>\n",
              "      <td>91.8</td>\n",
              "      <td>78.5</td>\n",
              "      <td>724.3</td>\n",
              "      <td>9.2</td>\n",
              "      <td>21.2</td>\n",
              "      <td>32</td>\n",
              "      <td>2.7</td>\n",
              "      <td>0.0</td>\n",
              "      <td>0.0</td>\n",
              "    </tr>\n",
              "    <tr>\n",
              "      <th>35</th>\n",
              "      <td>6</td>\n",
              "      <td>3</td>\n",
              "      <td>sep</td>\n",
              "      <td>tue</td>\n",
              "      <td>90.3</td>\n",
              "      <td>80.7</td>\n",
              "      <td>730.2</td>\n",
              "      <td>6.3</td>\n",
              "      <td>18.2</td>\n",
              "      <td>62</td>\n",
              "      <td>4.5</td>\n",
              "      <td>0.0</td>\n",
              "      <td>0.0</td>\n",
              "    </tr>\n",
              "    <tr>\n",
              "      <th>36</th>\n",
              "      <td>6</td>\n",
              "      <td>3</td>\n",
              "      <td>oct</td>\n",
              "      <td>tue</td>\n",
              "      <td>90.6</td>\n",
              "      <td>35.4</td>\n",
              "      <td>669.1</td>\n",
              "      <td>6.7</td>\n",
              "      <td>21.7</td>\n",
              "      <td>24</td>\n",
              "      <td>4.5</td>\n",
              "      <td>0.0</td>\n",
              "      <td>0.0</td>\n",
              "    </tr>\n",
              "    <tr>\n",
              "      <th>37</th>\n",
              "      <td>7</td>\n",
              "      <td>4</td>\n",
              "      <td>oct</td>\n",
              "      <td>fri</td>\n",
              "      <td>90.0</td>\n",
              "      <td>41.5</td>\n",
              "      <td>682.6</td>\n",
              "      <td>8.7</td>\n",
              "      <td>11.3</td>\n",
              "      <td>60</td>\n",
              "      <td>5.4</td>\n",
              "      <td>0.0</td>\n",
              "      <td>0.0</td>\n",
              "    </tr>\n",
              "    <tr>\n",
              "      <th>38</th>\n",
              "      <td>7</td>\n",
              "      <td>3</td>\n",
              "      <td>oct</td>\n",
              "      <td>sat</td>\n",
              "      <td>90.6</td>\n",
              "      <td>43.7</td>\n",
              "      <td>686.9</td>\n",
              "      <td>6.7</td>\n",
              "      <td>17.8</td>\n",
              "      <td>27</td>\n",
              "      <td>4.0</td>\n",
              "      <td>0.0</td>\n",
              "      <td>0.0</td>\n",
              "    </tr>\n",
              "    <tr>\n",
              "      <th>39</th>\n",
              "      <td>4</td>\n",
              "      <td>4</td>\n",
              "      <td>mar</td>\n",
              "      <td>tue</td>\n",
              "      <td>88.1</td>\n",
              "      <td>25.7</td>\n",
              "      <td>67.6</td>\n",
              "      <td>3.8</td>\n",
              "      <td>14.1</td>\n",
              "      <td>43</td>\n",
              "      <td>2.7</td>\n",
              "      <td>0.0</td>\n",
              "      <td>0.0</td>\n",
              "    </tr>\n",
              "    <tr>\n",
              "      <th>40</th>\n",
              "      <td>4</td>\n",
              "      <td>4</td>\n",
              "      <td>jul</td>\n",
              "      <td>tue</td>\n",
              "      <td>79.5</td>\n",
              "      <td>60.6</td>\n",
              "      <td>366.7</td>\n",
              "      <td>1.5</td>\n",
              "      <td>23.3</td>\n",
              "      <td>37</td>\n",
              "      <td>3.1</td>\n",
              "      <td>0.0</td>\n",
              "      <td>0.0</td>\n",
              "    </tr>\n",
              "    <tr>\n",
              "      <th>41</th>\n",
              "      <td>4</td>\n",
              "      <td>4</td>\n",
              "      <td>aug</td>\n",
              "      <td>sat</td>\n",
              "      <td>90.2</td>\n",
              "      <td>96.9</td>\n",
              "      <td>624.2</td>\n",
              "      <td>8.9</td>\n",
              "      <td>18.4</td>\n",
              "      <td>42</td>\n",
              "      <td>6.7</td>\n",
              "      <td>0.0</td>\n",
              "      <td>0.0</td>\n",
              "    </tr>\n",
              "    <tr>\n",
              "      <th>42</th>\n",
              "      <td>4</td>\n",
              "      <td>4</td>\n",
              "      <td>aug</td>\n",
              "      <td>tue</td>\n",
              "      <td>94.8</td>\n",
              "      <td>108.3</td>\n",
              "      <td>647.1</td>\n",
              "      <td>17.0</td>\n",
              "      <td>16.6</td>\n",
              "      <td>54</td>\n",
              "      <td>5.4</td>\n",
              "      <td>0.0</td>\n",
              "      <td>0.0</td>\n",
              "    </tr>\n",
              "    <tr>\n",
              "      <th>43</th>\n",
              "      <td>4</td>\n",
              "      <td>4</td>\n",
              "      <td>sep</td>\n",
              "      <td>sat</td>\n",
              "      <td>92.5</td>\n",
              "      <td>88.0</td>\n",
              "      <td>698.6</td>\n",
              "      <td>7.1</td>\n",
              "      <td>19.6</td>\n",
              "      <td>48</td>\n",
              "      <td>2.7</td>\n",
              "      <td>0.0</td>\n",
              "      <td>0.0</td>\n",
              "    </tr>\n",
              "    <tr>\n",
              "      <th>44</th>\n",
              "      <td>4</td>\n",
              "      <td>4</td>\n",
              "      <td>sep</td>\n",
              "      <td>wed</td>\n",
              "      <td>90.1</td>\n",
              "      <td>82.9</td>\n",
              "      <td>735.7</td>\n",
              "      <td>6.2</td>\n",
              "      <td>12.9</td>\n",
              "      <td>74</td>\n",
              "      <td>4.9</td>\n",
              "      <td>0.0</td>\n",
              "      <td>0.0</td>\n",
              "    </tr>\n",
              "    <tr>\n",
              "      <th>45</th>\n",
              "      <td>5</td>\n",
              "      <td>6</td>\n",
              "      <td>sep</td>\n",
              "      <td>wed</td>\n",
              "      <td>94.3</td>\n",
              "      <td>85.1</td>\n",
              "      <td>692.3</td>\n",
              "      <td>15.9</td>\n",
              "      <td>25.9</td>\n",
              "      <td>24</td>\n",
              "      <td>4.0</td>\n",
              "      <td>0.0</td>\n",
              "      <td>0.0</td>\n",
              "    </tr>\n",
              "    <tr>\n",
              "      <th>46</th>\n",
              "      <td>5</td>\n",
              "      <td>6</td>\n",
              "      <td>sep</td>\n",
              "      <td>mon</td>\n",
              "      <td>90.9</td>\n",
              "      <td>126.5</td>\n",
              "      <td>686.5</td>\n",
              "      <td>7.0</td>\n",
              "      <td>14.7</td>\n",
              "      <td>70</td>\n",
              "      <td>3.6</td>\n",
              "      <td>0.0</td>\n",
              "      <td>0.0</td>\n",
              "    </tr>\n",
              "    <tr>\n",
              "      <th>47</th>\n",
              "      <td>6</td>\n",
              "      <td>6</td>\n",
              "      <td>jul</td>\n",
              "      <td>mon</td>\n",
              "      <td>94.2</td>\n",
              "      <td>62.3</td>\n",
              "      <td>442.9</td>\n",
              "      <td>11.0</td>\n",
              "      <td>23.0</td>\n",
              "      <td>36</td>\n",
              "      <td>3.1</td>\n",
              "      <td>0.0</td>\n",
              "      <td>0.0</td>\n",
              "    </tr>\n",
              "    <tr>\n",
              "      <th>48</th>\n",
              "      <td>4</td>\n",
              "      <td>4</td>\n",
              "      <td>mar</td>\n",
              "      <td>mon</td>\n",
              "      <td>87.2</td>\n",
              "      <td>23.9</td>\n",
              "      <td>64.7</td>\n",
              "      <td>4.1</td>\n",
              "      <td>11.8</td>\n",
              "      <td>35</td>\n",
              "      <td>1.8</td>\n",
              "      <td>0.0</td>\n",
              "      <td>0.0</td>\n",
              "    </tr>\n",
              "    <tr>\n",
              "      <th>49</th>\n",
              "      <td>4</td>\n",
              "      <td>4</td>\n",
              "      <td>mar</td>\n",
              "      <td>mon</td>\n",
              "      <td>87.6</td>\n",
              "      <td>52.2</td>\n",
              "      <td>103.8</td>\n",
              "      <td>5.0</td>\n",
              "      <td>11.0</td>\n",
              "      <td>46</td>\n",
              "      <td>5.8</td>\n",
              "      <td>0.0</td>\n",
              "      <td>0.0</td>\n",
              "    </tr>\n",
              "  </tbody>\n",
              "</table>\n",
              "</div>"
            ],
            "text/plain": [
              "    X  Y month  day  FFMC    DMC     DC   ISI  temp  RH  wind  rain  area\n",
              "0   7  5   mar  fri  86.2   26.2   94.3   5.1   8.2  51   6.7   0.0   0.0\n",
              "1   7  4   oct  tue  90.6   35.4  669.1   6.7  18.0  33   0.9   0.0   0.0\n",
              "2   7  4   oct  sat  90.6   43.7  686.9   6.7  14.6  33   1.3   0.0   0.0\n",
              "3   8  6   mar  fri  91.7   33.3   77.5   9.0   8.3  97   4.0   0.2   0.0\n",
              "4   8  6   mar  sun  89.3   51.3  102.2   9.6  11.4  99   1.8   0.0   0.0\n",
              "5   8  6   aug  sun  92.3   85.3  488.0  14.7  22.2  29   5.4   0.0   0.0\n",
              "6   8  6   aug  mon  92.3   88.9  495.6   8.5  24.1  27   3.1   0.0   0.0\n",
              "7   8  6   aug  mon  91.5  145.4  608.2  10.7   8.0  86   2.2   0.0   0.0\n",
              "8   8  6   sep  tue  91.0  129.5  692.6   7.0  13.1  63   5.4   0.0   0.0\n",
              "9   7  5   sep  sat  92.5   88.0  698.6   7.1  22.8  40   4.0   0.0   0.0\n",
              "10  7  5   sep  sat  92.5   88.0  698.6   7.1  17.8  51   7.2   0.0   0.0\n",
              "11  7  5   sep  sat  92.8   73.2  713.0  22.6  19.3  38   4.0   0.0   0.0\n",
              "12  6  5   aug  fri  63.5   70.8  665.3   0.8  17.0  72   6.7   0.0   0.0\n",
              "13  6  5   sep  mon  90.9  126.5  686.5   7.0  21.3  42   2.2   0.0   0.0\n",
              "14  6  5   sep  wed  92.9  133.3  699.6   9.2  26.4  21   4.5   0.0   0.0\n",
              "15  6  5   sep  fri  93.3  141.2  713.9  13.9  22.9  44   5.4   0.0   0.0\n",
              "16  5  5   mar  sat  91.7   35.8   80.8   7.8  15.1  27   5.4   0.0   0.0\n",
              "17  8  5   oct  mon  84.9   32.8  664.2   3.0  16.7  47   4.9   0.0   0.0\n",
              "18  6  4   mar  wed  89.2   27.9   70.8   6.3  15.9  35   4.0   0.0   0.0\n",
              "19  6  4   apr  sat  86.3   27.4   97.1   5.1   9.3  44   4.5   0.0   0.0\n",
              "20  6  4   sep  tue  91.0  129.5  692.6   7.0  18.3  40   2.7   0.0   0.0\n",
              "21  5  4   sep  mon  91.8   78.5  724.3   9.2  19.1  38   2.7   0.0   0.0\n",
              "22  7  4   jun  sun  94.3   96.3  200.0  56.1  21.0  44   4.5   0.0   0.0\n",
              "23  7  4   aug  sat  90.2  110.9  537.4   6.2  19.5  43   5.8   0.0   0.0\n",
              "24  7  4   aug  sat  93.5  139.4  594.2  20.3  23.7  32   5.8   0.0   0.0\n",
              "25  7  4   aug  sun  91.4  142.4  601.4  10.6  16.3  60   5.4   0.0   0.0\n",
              "26  7  4   sep  fri  92.4  117.9  668.0  12.2  19.0  34   5.8   0.0   0.0\n",
              "27  7  4   sep  mon  90.9  126.5  686.5   7.0  19.4  48   1.3   0.0   0.0\n",
              "28  6  3   sep  sat  93.4  145.4  721.4   8.1  30.2  24   2.7   0.0   0.0\n",
              "29  6  3   sep  sun  93.5  149.3  728.6   8.1  22.8  39   3.6   0.0   0.0\n",
              "30  6  3   sep  fri  94.3   85.1  692.3  15.9  25.4  24   3.6   0.0   0.0\n",
              "31  6  3   sep  mon  88.6   91.8  709.9   7.1  11.2  78   7.6   0.0   0.0\n",
              "32  6  3   sep  fri  88.6   69.7  706.8   5.8  20.6  37   1.8   0.0   0.0\n",
              "33  6  3   sep  sun  91.7   75.6  718.3   7.8  17.7  39   3.6   0.0   0.0\n",
              "34  6  3   sep  mon  91.8   78.5  724.3   9.2  21.2  32   2.7   0.0   0.0\n",
              "35  6  3   sep  tue  90.3   80.7  730.2   6.3  18.2  62   4.5   0.0   0.0\n",
              "36  6  3   oct  tue  90.6   35.4  669.1   6.7  21.7  24   4.5   0.0   0.0\n",
              "37  7  4   oct  fri  90.0   41.5  682.6   8.7  11.3  60   5.4   0.0   0.0\n",
              "38  7  3   oct  sat  90.6   43.7  686.9   6.7  17.8  27   4.0   0.0   0.0\n",
              "39  4  4   mar  tue  88.1   25.7   67.6   3.8  14.1  43   2.7   0.0   0.0\n",
              "40  4  4   jul  tue  79.5   60.6  366.7   1.5  23.3  37   3.1   0.0   0.0\n",
              "41  4  4   aug  sat  90.2   96.9  624.2   8.9  18.4  42   6.7   0.0   0.0\n",
              "42  4  4   aug  tue  94.8  108.3  647.1  17.0  16.6  54   5.4   0.0   0.0\n",
              "43  4  4   sep  sat  92.5   88.0  698.6   7.1  19.6  48   2.7   0.0   0.0\n",
              "44  4  4   sep  wed  90.1   82.9  735.7   6.2  12.9  74   4.9   0.0   0.0\n",
              "45  5  6   sep  wed  94.3   85.1  692.3  15.9  25.9  24   4.0   0.0   0.0\n",
              "46  5  6   sep  mon  90.9  126.5  686.5   7.0  14.7  70   3.6   0.0   0.0\n",
              "47  6  6   jul  mon  94.2   62.3  442.9  11.0  23.0  36   3.1   0.0   0.0\n",
              "48  4  4   mar  mon  87.2   23.9   64.7   4.1  11.8  35   1.8   0.0   0.0\n",
              "49  4  4   mar  mon  87.6   52.2  103.8   5.0  11.0  46   5.8   0.0   0.0"
            ]
          },
          "metadata": {
            "tags": []
          },
          "execution_count": 110
        }
      ]
    },
    {
      "cell_type": "code",
      "metadata": {
        "id": "2omdnTX4BkuG",
        "colab_type": "code",
        "colab": {
          "base_uri": "https://localhost:8080/",
          "height": 364
        },
        "outputId": "772bf9ef-b4ed-4bac-ec24-48a6b39b11c7"
      },
      "source": [
        "df.info()"
      ],
      "execution_count": 111,
      "outputs": [
        {
          "output_type": "stream",
          "text": [
            "<class 'pandas.core.frame.DataFrame'>\n",
            "RangeIndex: 517 entries, 0 to 516\n",
            "Data columns (total 13 columns):\n",
            " #   Column  Non-Null Count  Dtype  \n",
            "---  ------  --------------  -----  \n",
            " 0   X       517 non-null    int64  \n",
            " 1   Y       517 non-null    int64  \n",
            " 2   month   517 non-null    object \n",
            " 3   day     517 non-null    object \n",
            " 4   FFMC    517 non-null    float64\n",
            " 5   DMC     517 non-null    float64\n",
            " 6   DC      517 non-null    float64\n",
            " 7   ISI     517 non-null    float64\n",
            " 8   temp    517 non-null    float64\n",
            " 9   RH      517 non-null    int64  \n",
            " 10  wind    517 non-null    float64\n",
            " 11  rain    517 non-null    float64\n",
            " 12  area    517 non-null    float64\n",
            "dtypes: float64(8), int64(3), object(2)\n",
            "memory usage: 52.6+ KB\n"
          ],
          "name": "stdout"
        }
      ]
    },
    {
      "cell_type": "code",
      "metadata": {
        "id": "dcIO-eGaBPyn",
        "colab_type": "code",
        "colab": {
          "base_uri": "https://localhost:8080/",
          "height": 1000
        },
        "outputId": "40eac850-fb87-4316-80f0-343935047106"
      },
      "source": [
        "plt.style.use('seaborn')\n",
        "df.hist(bins=30, figsize=(20,15))"
      ],
      "execution_count": 112,
      "outputs": [
        {
          "output_type": "execute_result",
          "data": {
            "text/plain": [
              "array([[<matplotlib.axes._subplots.AxesSubplot object at 0x7f0021754908>,\n",
              "        <matplotlib.axes._subplots.AxesSubplot object at 0x7f0021723780>,\n",
              "        <matplotlib.axes._subplots.AxesSubplot object at 0x7f00216d0dd8>],\n",
              "       [<matplotlib.axes._subplots.AxesSubplot object at 0x7f0021687470>,\n",
              "        <matplotlib.axes._subplots.AxesSubplot object at 0x7f0021634ac8>,\n",
              "        <matplotlib.axes._subplots.AxesSubplot object at 0x7f00215ef160>],\n",
              "       [<matplotlib.axes._subplots.AxesSubplot object at 0x7f002161d7b8>,\n",
              "        <matplotlib.axes._subplots.AxesSubplot object at 0x7f00215cbdd8>,\n",
              "        <matplotlib.axes._subplots.AxesSubplot object at 0x7f00215cbe48>],\n",
              "       [<matplotlib.axes._subplots.AxesSubplot object at 0x7f0021533b00>,\n",
              "        <matplotlib.axes._subplots.AxesSubplot object at 0x7f00214ec198>,\n",
              "        <matplotlib.axes._subplots.AxesSubplot object at 0x7f002151c7f0>]],\n",
              "      dtype=object)"
            ]
          },
          "metadata": {
            "tags": []
          },
          "execution_count": 112
        },
        {
          "output_type": "display_data",
          "data": {
            "image/png": "[encoded data removed]",
            "text/plain": [
              "<Figure size 1440x1080 with 12 Axes>"
            ]
          },
          "metadata": {
            "tags": []
          }
        }
      ]
    },
    {
      "cell_type": "markdown",
      "metadata": {
        "id": "afYjt5LiCLx_",
        "colab_type": "text"
      },
      "source": [
        "# Lets convert days and month into integer "
      ]
    },
    {
      "cell_type": "code",
      "metadata": {
        "id": "4-fsI4NlBP1P",
        "colab_type": "code",
        "colab": {}
      },
      "source": [
        "df.month.replace(('jan','feb','mar','apr','may','jun','jul', 'aug','sep','oct','nov','dec'),(1,2,3,4,5,6,7,8,9,10,11,12),inplace=True)\n",
        "df.day.replace(('mon','tue','wed','thu', 'fri','sat','sun'),(1,2,3,4,5,6,7),inplace=True)"
      ],
      "execution_count": 0,
      "outputs": []
    },
    {
      "cell_type": "code",
      "metadata": {
        "id": "nQeiRVlqBP4Z",
        "colab_type": "code",
        "colab": {
          "base_uri": "https://localhost:8080/",
          "height": 447
        },
        "outputId": "7e58d9ff-57ad-4457-868f-f0d634fcd7e1"
      },
      "source": [
        "# let find correlation \n",
        "df.corr()"
      ],
      "execution_count": 114,
      "outputs": [
        {
          "output_type": "execute_result",
          "data": {
            "text/html": [
              "<div>\n",
              "<style scoped>\n",
              "    .dataframe tbody tr th:only-of-type {\n",
              "        vertical-align: middle;\n",
              "    }\n",
              "\n",
              "    .dataframe tbody tr th {\n",
              "        vertical-align: top;\n",
              "    }\n",
              "\n",
              "    .dataframe thead th {\n",
              "        text-align: right;\n",
              "    }\n",
              "</style>\n",
              "<table border=\"1\" class=\"dataframe\">\n",
              "  <thead>\n",
              "    <tr style=\"text-align: right;\">\n",
              "      <th></th>\n",
              "      <th>X</th>\n",
              "      <th>Y</th>\n",
              "      <th>month</th>\n",
              "      <th>day</th>\n",
              "      <th>FFMC</th>\n",
              "      <th>DMC</th>\n",
              "      <th>DC</th>\n",
              "      <th>ISI</th>\n",
              "      <th>temp</th>\n",
              "      <th>RH</th>\n",
              "      <th>wind</th>\n",
              "      <th>rain</th>\n",
              "      <th>area</th>\n",
              "    </tr>\n",
              "  </thead>\n",
              "  <tbody>\n",
              "    <tr>\n",
              "      <th>X</th>\n",
              "      <td>1.000000</td>\n",
              "      <td>0.539548</td>\n",
              "      <td>-0.065003</td>\n",
              "      <td>-0.024922</td>\n",
              "      <td>-0.021039</td>\n",
              "      <td>-0.048384</td>\n",
              "      <td>-0.085916</td>\n",
              "      <td>0.006210</td>\n",
              "      <td>-0.051258</td>\n",
              "      <td>0.085223</td>\n",
              "      <td>0.018798</td>\n",
              "      <td>0.065387</td>\n",
              "      <td>0.063385</td>\n",
              "    </tr>\n",
              "    <tr>\n",
              "      <th>Y</th>\n",
              "      <td>0.539548</td>\n",
              "      <td>1.000000</td>\n",
              "      <td>-0.066292</td>\n",
              "      <td>-0.005453</td>\n",
              "      <td>-0.046308</td>\n",
              "      <td>0.007782</td>\n",
              "      <td>-0.101178</td>\n",
              "      <td>-0.024488</td>\n",
              "      <td>-0.024103</td>\n",
              "      <td>0.062221</td>\n",
              "      <td>-0.020341</td>\n",
              "      <td>0.033234</td>\n",
              "      <td>0.044873</td>\n",
              "    </tr>\n",
              "    <tr>\n",
              "      <th>month</th>\n",
              "      <td>-0.065003</td>\n",
              "      <td>-0.066292</td>\n",
              "      <td>1.000000</td>\n",
              "      <td>-0.050837</td>\n",
              "      <td>0.291477</td>\n",
              "      <td>0.466645</td>\n",
              "      <td>0.868698</td>\n",
              "      <td>0.186597</td>\n",
              "      <td>0.368842</td>\n",
              "      <td>-0.095280</td>\n",
              "      <td>-0.086368</td>\n",
              "      <td>0.013438</td>\n",
              "      <td>0.056496</td>\n",
              "    </tr>\n",
              "    <tr>\n",
              "      <th>day</th>\n",
              "      <td>-0.024922</td>\n",
              "      <td>-0.005453</td>\n",
              "      <td>-0.050837</td>\n",
              "      <td>1.000000</td>\n",
              "      <td>-0.041068</td>\n",
              "      <td>0.062870</td>\n",
              "      <td>0.000105</td>\n",
              "      <td>0.032909</td>\n",
              "      <td>0.052190</td>\n",
              "      <td>0.092151</td>\n",
              "      <td>0.032478</td>\n",
              "      <td>-0.048340</td>\n",
              "      <td>0.023226</td>\n",
              "    </tr>\n",
              "    <tr>\n",
              "      <th>FFMC</th>\n",
              "      <td>-0.021039</td>\n",
              "      <td>-0.046308</td>\n",
              "      <td>0.291477</td>\n",
              "      <td>-0.041068</td>\n",
              "      <td>1.000000</td>\n",
              "      <td>0.382619</td>\n",
              "      <td>0.330512</td>\n",
              "      <td>0.531805</td>\n",
              "      <td>0.431532</td>\n",
              "      <td>-0.300995</td>\n",
              "      <td>-0.028485</td>\n",
              "      <td>0.056702</td>\n",
              "      <td>0.040122</td>\n",
              "    </tr>\n",
              "    <tr>\n",
              "      <th>DMC</th>\n",
              "      <td>-0.048384</td>\n",
              "      <td>0.007782</td>\n",
              "      <td>0.466645</td>\n",
              "      <td>0.062870</td>\n",
              "      <td>0.382619</td>\n",
              "      <td>1.000000</td>\n",
              "      <td>0.682192</td>\n",
              "      <td>0.305128</td>\n",
              "      <td>0.469594</td>\n",
              "      <td>0.073795</td>\n",
              "      <td>-0.105342</td>\n",
              "      <td>0.074790</td>\n",
              "      <td>0.072994</td>\n",
              "    </tr>\n",
              "    <tr>\n",
              "      <th>DC</th>\n",
              "      <td>-0.085916</td>\n",
              "      <td>-0.101178</td>\n",
              "      <td>0.868698</td>\n",
              "      <td>0.000105</td>\n",
              "      <td>0.330512</td>\n",
              "      <td>0.682192</td>\n",
              "      <td>1.000000</td>\n",
              "      <td>0.229154</td>\n",
              "      <td>0.496208</td>\n",
              "      <td>-0.039192</td>\n",
              "      <td>-0.203466</td>\n",
              "      <td>0.035861</td>\n",
              "      <td>0.049383</td>\n",
              "    </tr>\n",
              "    <tr>\n",
              "      <th>ISI</th>\n",
              "      <td>0.006210</td>\n",
              "      <td>-0.024488</td>\n",
              "      <td>0.186597</td>\n",
              "      <td>0.032909</td>\n",
              "      <td>0.531805</td>\n",
              "      <td>0.305128</td>\n",
              "      <td>0.229154</td>\n",
              "      <td>1.000000</td>\n",
              "      <td>0.394287</td>\n",
              "      <td>-0.132517</td>\n",
              "      <td>0.106826</td>\n",
              "      <td>0.067668</td>\n",
              "      <td>0.008258</td>\n",
              "    </tr>\n",
              "    <tr>\n",
              "      <th>temp</th>\n",
              "      <td>-0.051258</td>\n",
              "      <td>-0.024103</td>\n",
              "      <td>0.368842</td>\n",
              "      <td>0.052190</td>\n",
              "      <td>0.431532</td>\n",
              "      <td>0.469594</td>\n",
              "      <td>0.496208</td>\n",
              "      <td>0.394287</td>\n",
              "      <td>1.000000</td>\n",
              "      <td>-0.527390</td>\n",
              "      <td>-0.227116</td>\n",
              "      <td>0.069491</td>\n",
              "      <td>0.097844</td>\n",
              "    </tr>\n",
              "    <tr>\n",
              "      <th>RH</th>\n",
              "      <td>0.085223</td>\n",
              "      <td>0.062221</td>\n",
              "      <td>-0.095280</td>\n",
              "      <td>0.092151</td>\n",
              "      <td>-0.300995</td>\n",
              "      <td>0.073795</td>\n",
              "      <td>-0.039192</td>\n",
              "      <td>-0.132517</td>\n",
              "      <td>-0.527390</td>\n",
              "      <td>1.000000</td>\n",
              "      <td>0.069410</td>\n",
              "      <td>0.099751</td>\n",
              "      <td>-0.075519</td>\n",
              "    </tr>\n",
              "    <tr>\n",
              "      <th>wind</th>\n",
              "      <td>0.018798</td>\n",
              "      <td>-0.020341</td>\n",
              "      <td>-0.086368</td>\n",
              "      <td>0.032478</td>\n",
              "      <td>-0.028485</td>\n",
              "      <td>-0.105342</td>\n",
              "      <td>-0.203466</td>\n",
              "      <td>0.106826</td>\n",
              "      <td>-0.227116</td>\n",
              "      <td>0.069410</td>\n",
              "      <td>1.000000</td>\n",
              "      <td>0.061119</td>\n",
              "      <td>0.012317</td>\n",
              "    </tr>\n",
              "    <tr>\n",
              "      <th>rain</th>\n",
              "      <td>0.065387</td>\n",
              "      <td>0.033234</td>\n",
              "      <td>0.013438</td>\n",
              "      <td>-0.048340</td>\n",
              "      <td>0.056702</td>\n",
              "      <td>0.074790</td>\n",
              "      <td>0.035861</td>\n",
              "      <td>0.067668</td>\n",
              "      <td>0.069491</td>\n",
              "      <td>0.099751</td>\n",
              "      <td>0.061119</td>\n",
              "      <td>1.000000</td>\n",
              "      <td>-0.007366</td>\n",
              "    </tr>\n",
              "    <tr>\n",
              "      <th>area</th>\n",
              "      <td>0.063385</td>\n",
              "      <td>0.044873</td>\n",
              "      <td>0.056496</td>\n",
              "      <td>0.023226</td>\n",
              "      <td>0.040122</td>\n",
              "      <td>0.072994</td>\n",
              "      <td>0.049383</td>\n",
              "      <td>0.008258</td>\n",
              "      <td>0.097844</td>\n",
              "      <td>-0.075519</td>\n",
              "      <td>0.012317</td>\n",
              "      <td>-0.007366</td>\n",
              "      <td>1.000000</td>\n",
              "    </tr>\n",
              "  </tbody>\n",
              "</table>\n",
              "</div>"
            ],
            "text/plain": [
              "              X         Y     month  ...      wind      rain      area\n",
              "X      1.000000  0.539548 -0.065003  ...  0.018798  0.065387  0.063385\n",
              "Y      0.539548  1.000000 -0.066292  ... -0.020341  0.033234  0.044873\n",
              "month -0.065003 -0.066292  1.000000  ... -0.086368  0.013438  0.056496\n",
              "day   -0.024922 -0.005453 -0.050837  ...  0.032478 -0.048340  0.023226\n",
              "FFMC  -0.021039 -0.046308  0.291477  ... -0.028485  0.056702  0.040122\n",
              "DMC   -0.048384  0.007782  0.466645  ... -0.105342  0.074790  0.072994\n",
              "DC    -0.085916 -0.101178  0.868698  ... -0.203466  0.035861  0.049383\n",
              "ISI    0.006210 -0.024488  0.186597  ...  0.106826  0.067668  0.008258\n",
              "temp  -0.051258 -0.024103  0.368842  ... -0.227116  0.069491  0.097844\n",
              "RH     0.085223  0.062221 -0.095280  ...  0.069410  0.099751 -0.075519\n",
              "wind   0.018798 -0.020341 -0.086368  ...  1.000000  0.061119  0.012317\n",
              "rain   0.065387  0.033234  0.013438  ...  0.061119  1.000000 -0.007366\n",
              "area   0.063385  0.044873  0.056496  ...  0.012317 -0.007366  1.000000\n",
              "\n",
              "[13 rows x 13 columns]"
            ]
          },
          "metadata": {
            "tags": []
          },
          "execution_count": 114
        }
      ]
    },
    {
      "cell_type": "markdown",
      "metadata": {
        "id": "du8Wa5deDsxJ",
        "colab_type": "text"
      },
      "source": [
        "Lets have look over data set central tendency\n"
      ]
    },
    {
      "cell_type": "code",
      "metadata": {
        "id": "K47JJgAnDyvX",
        "colab_type": "code",
        "colab": {
          "base_uri": "https://localhost:8080/",
          "height": 314
        },
        "outputId": "112424b4-1e0a-4c46-e31e-d483cb00752f"
      },
      "source": [
        "df.describe()"
      ],
      "execution_count": 115,
      "outputs": [
        {
          "output_type": "execute_result",
          "data": {
            "text/html": [
              "<div>\n",
              "<style scoped>\n",
              "    .dataframe tbody tr th:only-of-type {\n",
              "        vertical-align: middle;\n",
              "    }\n",
              "\n",
              "    .dataframe tbody tr th {\n",
              "        vertical-align: top;\n",
              "    }\n",
              "\n",
              "    .dataframe thead th {\n",
              "        text-align: right;\n",
              "    }\n",
              "</style>\n",
              "<table border=\"1\" class=\"dataframe\">\n",
              "  <thead>\n",
              "    <tr style=\"text-align: right;\">\n",
              "      <th></th>\n",
              "      <th>X</th>\n",
              "      <th>Y</th>\n",
              "      <th>month</th>\n",
              "      <th>day</th>\n",
              "      <th>FFMC</th>\n",
              "      <th>DMC</th>\n",
              "      <th>DC</th>\n",
              "      <th>ISI</th>\n",
              "      <th>temp</th>\n",
              "      <th>RH</th>\n",
              "      <th>wind</th>\n",
              "      <th>rain</th>\n",
              "      <th>area</th>\n",
              "    </tr>\n",
              "  </thead>\n",
              "  <tbody>\n",
              "    <tr>\n",
              "      <th>count</th>\n",
              "      <td>517.000000</td>\n",
              "      <td>517.000000</td>\n",
              "      <td>517.000000</td>\n",
              "      <td>517.000000</td>\n",
              "      <td>517.000000</td>\n",
              "      <td>517.000000</td>\n",
              "      <td>517.000000</td>\n",
              "      <td>517.000000</td>\n",
              "      <td>517.000000</td>\n",
              "      <td>517.000000</td>\n",
              "      <td>517.000000</td>\n",
              "      <td>517.000000</td>\n",
              "      <td>517.000000</td>\n",
              "    </tr>\n",
              "    <tr>\n",
              "      <th>mean</th>\n",
              "      <td>4.669246</td>\n",
              "      <td>4.299807</td>\n",
              "      <td>7.475822</td>\n",
              "      <td>4.259188</td>\n",
              "      <td>90.644681</td>\n",
              "      <td>110.872340</td>\n",
              "      <td>547.940039</td>\n",
              "      <td>9.021663</td>\n",
              "      <td>18.889168</td>\n",
              "      <td>44.288201</td>\n",
              "      <td>4.017602</td>\n",
              "      <td>0.021663</td>\n",
              "      <td>12.847292</td>\n",
              "    </tr>\n",
              "    <tr>\n",
              "      <th>std</th>\n",
              "      <td>2.313778</td>\n",
              "      <td>1.229900</td>\n",
              "      <td>2.275990</td>\n",
              "      <td>2.072929</td>\n",
              "      <td>5.520111</td>\n",
              "      <td>64.046482</td>\n",
              "      <td>248.066192</td>\n",
              "      <td>4.559477</td>\n",
              "      <td>5.806625</td>\n",
              "      <td>16.317469</td>\n",
              "      <td>1.791653</td>\n",
              "      <td>0.295959</td>\n",
              "      <td>63.655818</td>\n",
              "    </tr>\n",
              "    <tr>\n",
              "      <th>min</th>\n",
              "      <td>1.000000</td>\n",
              "      <td>2.000000</td>\n",
              "      <td>1.000000</td>\n",
              "      <td>1.000000</td>\n",
              "      <td>18.700000</td>\n",
              "      <td>1.100000</td>\n",
              "      <td>7.900000</td>\n",
              "      <td>0.000000</td>\n",
              "      <td>2.200000</td>\n",
              "      <td>15.000000</td>\n",
              "      <td>0.400000</td>\n",
              "      <td>0.000000</td>\n",
              "      <td>0.000000</td>\n",
              "    </tr>\n",
              "    <tr>\n",
              "      <th>25%</th>\n",
              "      <td>3.000000</td>\n",
              "      <td>4.000000</td>\n",
              "      <td>7.000000</td>\n",
              "      <td>2.000000</td>\n",
              "      <td>90.200000</td>\n",
              "      <td>68.600000</td>\n",
              "      <td>437.700000</td>\n",
              "      <td>6.500000</td>\n",
              "      <td>15.500000</td>\n",
              "      <td>33.000000</td>\n",
              "      <td>2.700000</td>\n",
              "      <td>0.000000</td>\n",
              "      <td>0.000000</td>\n",
              "    </tr>\n",
              "    <tr>\n",
              "      <th>50%</th>\n",
              "      <td>4.000000</td>\n",
              "      <td>4.000000</td>\n",
              "      <td>8.000000</td>\n",
              "      <td>5.000000</td>\n",
              "      <td>91.600000</td>\n",
              "      <td>108.300000</td>\n",
              "      <td>664.200000</td>\n",
              "      <td>8.400000</td>\n",
              "      <td>19.300000</td>\n",
              "      <td>42.000000</td>\n",
              "      <td>4.000000</td>\n",
              "      <td>0.000000</td>\n",
              "      <td>0.520000</td>\n",
              "    </tr>\n",
              "    <tr>\n",
              "      <th>75%</th>\n",
              "      <td>7.000000</td>\n",
              "      <td>5.000000</td>\n",
              "      <td>9.000000</td>\n",
              "      <td>6.000000</td>\n",
              "      <td>92.900000</td>\n",
              "      <td>142.400000</td>\n",
              "      <td>713.900000</td>\n",
              "      <td>10.800000</td>\n",
              "      <td>22.800000</td>\n",
              "      <td>53.000000</td>\n",
              "      <td>4.900000</td>\n",
              "      <td>0.000000</td>\n",
              "      <td>6.570000</td>\n",
              "    </tr>\n",
              "    <tr>\n",
              "      <th>max</th>\n",
              "      <td>9.000000</td>\n",
              "      <td>9.000000</td>\n",
              "      <td>12.000000</td>\n",
              "      <td>7.000000</td>\n",
              "      <td>96.200000</td>\n",
              "      <td>291.300000</td>\n",
              "      <td>860.600000</td>\n",
              "      <td>56.100000</td>\n",
              "      <td>33.300000</td>\n",
              "      <td>100.000000</td>\n",
              "      <td>9.400000</td>\n",
              "      <td>6.400000</td>\n",
              "      <td>1090.840000</td>\n",
              "    </tr>\n",
              "  </tbody>\n",
              "</table>\n",
              "</div>"
            ],
            "text/plain": [
              "                X           Y       month  ...        wind        rain         area\n",
              "count  517.000000  517.000000  517.000000  ...  517.000000  517.000000   517.000000\n",
              "mean     4.669246    4.299807    7.475822  ...    4.017602    0.021663    12.847292\n",
              "std      2.313778    1.229900    2.275990  ...    1.791653    0.295959    63.655818\n",
              "min      1.000000    2.000000    1.000000  ...    0.400000    0.000000     0.000000\n",
              "25%      3.000000    4.000000    7.000000  ...    2.700000    0.000000     0.000000\n",
              "50%      4.000000    4.000000    8.000000  ...    4.000000    0.000000     0.520000\n",
              "75%      7.000000    5.000000    9.000000  ...    4.900000    0.000000     6.570000\n",
              "max      9.000000    9.000000   12.000000  ...    9.400000    6.400000  1090.840000\n",
              "\n",
              "[8 rows x 13 columns]"
            ]
          },
          "metadata": {
            "tags": []
          },
          "execution_count": 115
        }
      ]
    },
    {
      "cell_type": "code",
      "metadata": {
        "id": "AApvSuvrBP7u",
        "colab_type": "code",
        "colab": {}
      },
      "source": [
        "from sklearn.model_selection import train_test_split\n",
        "X,y = train_test_split(df,test_size=0.2, random_state= 2)\n",
        "# lets make duplicate copy of our data set\n",
        "work_set= X.copy() "
      ],
      "execution_count": 0,
      "outputs": []
    },
    {
      "cell_type": "code",
      "metadata": {
        "id": "hPIneCFqBQDh",
        "colab_type": "code",
        "colab": {
          "base_uri": "https://localhost:8080/",
          "height": 202
        },
        "outputId": "70b1b6e5-7366-4841-c190-3f10542d54d0"
      },
      "source": [
        "X.head()"
      ],
      "execution_count": 117,
      "outputs": [
        {
          "output_type": "execute_result",
          "data": {
            "text/html": [
              "<div>\n",
              "<style scoped>\n",
              "    .dataframe tbody tr th:only-of-type {\n",
              "        vertical-align: middle;\n",
              "    }\n",
              "\n",
              "    .dataframe tbody tr th {\n",
              "        vertical-align: top;\n",
              "    }\n",
              "\n",
              "    .dataframe thead th {\n",
              "        text-align: right;\n",
              "    }\n",
              "</style>\n",
              "<table border=\"1\" class=\"dataframe\">\n",
              "  <thead>\n",
              "    <tr style=\"text-align: right;\">\n",
              "      <th></th>\n",
              "      <th>X</th>\n",
              "      <th>Y</th>\n",
              "      <th>month</th>\n",
              "      <th>day</th>\n",
              "      <th>FFMC</th>\n",
              "      <th>DMC</th>\n",
              "      <th>DC</th>\n",
              "      <th>ISI</th>\n",
              "      <th>temp</th>\n",
              "      <th>RH</th>\n",
              "      <th>wind</th>\n",
              "      <th>rain</th>\n",
              "      <th>area</th>\n",
              "    </tr>\n",
              "  </thead>\n",
              "  <tbody>\n",
              "    <tr>\n",
              "      <th>131</th>\n",
              "      <td>4</td>\n",
              "      <td>6</td>\n",
              "      <td>3</td>\n",
              "      <td>1</td>\n",
              "      <td>87.2</td>\n",
              "      <td>23.9</td>\n",
              "      <td>64.7</td>\n",
              "      <td>4.1</td>\n",
              "      <td>14.0</td>\n",
              "      <td>39</td>\n",
              "      <td>3.1</td>\n",
              "      <td>0.0</td>\n",
              "      <td>0.00</td>\n",
              "    </tr>\n",
              "    <tr>\n",
              "      <th>264</th>\n",
              "      <td>4</td>\n",
              "      <td>4</td>\n",
              "      <td>8</td>\n",
              "      <td>5</td>\n",
              "      <td>94.3</td>\n",
              "      <td>167.6</td>\n",
              "      <td>684.4</td>\n",
              "      <td>13.0</td>\n",
              "      <td>21.8</td>\n",
              "      <td>53</td>\n",
              "      <td>3.1</td>\n",
              "      <td>0.0</td>\n",
              "      <td>6.54</td>\n",
              "    </tr>\n",
              "    <tr>\n",
              "      <th>212</th>\n",
              "      <td>7</td>\n",
              "      <td>4</td>\n",
              "      <td>9</td>\n",
              "      <td>5</td>\n",
              "      <td>94.3</td>\n",
              "      <td>85.1</td>\n",
              "      <td>692.3</td>\n",
              "      <td>15.9</td>\n",
              "      <td>20.1</td>\n",
              "      <td>47</td>\n",
              "      <td>4.9</td>\n",
              "      <td>0.0</td>\n",
              "      <td>26.13</td>\n",
              "    </tr>\n",
              "    <tr>\n",
              "      <th>12</th>\n",
              "      <td>6</td>\n",
              "      <td>5</td>\n",
              "      <td>8</td>\n",
              "      <td>5</td>\n",
              "      <td>63.5</td>\n",
              "      <td>70.8</td>\n",
              "      <td>665.3</td>\n",
              "      <td>0.8</td>\n",
              "      <td>17.0</td>\n",
              "      <td>72</td>\n",
              "      <td>6.7</td>\n",
              "      <td>0.0</td>\n",
              "      <td>0.00</td>\n",
              "    </tr>\n",
              "    <tr>\n",
              "      <th>183</th>\n",
              "      <td>7</td>\n",
              "      <td>4</td>\n",
              "      <td>10</td>\n",
              "      <td>1</td>\n",
              "      <td>91.7</td>\n",
              "      <td>48.5</td>\n",
              "      <td>696.1</td>\n",
              "      <td>11.1</td>\n",
              "      <td>16.8</td>\n",
              "      <td>45</td>\n",
              "      <td>4.5</td>\n",
              "      <td>0.0</td>\n",
              "      <td>6.83</td>\n",
              "    </tr>\n",
              "  </tbody>\n",
              "</table>\n",
              "</div>"
            ],
            "text/plain": [
              "     X  Y  month  day  FFMC    DMC     DC   ISI  temp  RH  wind  rain   area\n",
              "131  4  6      3    1  87.2   23.9   64.7   4.1  14.0  39   3.1   0.0   0.00\n",
              "264  4  4      8    5  94.3  167.6  684.4  13.0  21.8  53   3.1   0.0   6.54\n",
              "212  7  4      9    5  94.3   85.1  692.3  15.9  20.1  47   4.9   0.0  26.13\n",
              "12   6  5      8    5  63.5   70.8  665.3   0.8  17.0  72   6.7   0.0   0.00\n",
              "183  7  4     10    1  91.7   48.5  696.1  11.1  16.8  45   4.5   0.0   6.83"
            ]
          },
          "metadata": {
            "tags": []
          },
          "execution_count": 117
        }
      ]
    },
    {
      "cell_type": "code",
      "metadata": {
        "id": "wVo5bY6pEw03",
        "colab_type": "code",
        "colab": {
          "base_uri": "https://localhost:8080/",
          "height": 202
        },
        "outputId": "548293e3-07b8-45b0-b2c6-413528609888"
      },
      "source": [
        "y.head()"
      ],
      "execution_count": 118,
      "outputs": [
        {
          "output_type": "execute_result",
          "data": {
            "text/html": [
              "<div>\n",
              "<style scoped>\n",
              "    .dataframe tbody tr th:only-of-type {\n",
              "        vertical-align: middle;\n",
              "    }\n",
              "\n",
              "    .dataframe tbody tr th {\n",
              "        vertical-align: top;\n",
              "    }\n",
              "\n",
              "    .dataframe thead th {\n",
              "        text-align: right;\n",
              "    }\n",
              "</style>\n",
              "<table border=\"1\" class=\"dataframe\">\n",
              "  <thead>\n",
              "    <tr style=\"text-align: right;\">\n",
              "      <th></th>\n",
              "      <th>X</th>\n",
              "      <th>Y</th>\n",
              "      <th>month</th>\n",
              "      <th>day</th>\n",
              "      <th>FFMC</th>\n",
              "      <th>DMC</th>\n",
              "      <th>DC</th>\n",
              "      <th>ISI</th>\n",
              "      <th>temp</th>\n",
              "      <th>RH</th>\n",
              "      <th>wind</th>\n",
              "      <th>rain</th>\n",
              "      <th>area</th>\n",
              "    </tr>\n",
              "  </thead>\n",
              "  <tbody>\n",
              "    <tr>\n",
              "      <th>84</th>\n",
              "      <td>1</td>\n",
              "      <td>2</td>\n",
              "      <td>8</td>\n",
              "      <td>4</td>\n",
              "      <td>91.7</td>\n",
              "      <td>114.3</td>\n",
              "      <td>661.3</td>\n",
              "      <td>6.3</td>\n",
              "      <td>20.2</td>\n",
              "      <td>45</td>\n",
              "      <td>3.6</td>\n",
              "      <td>0.0</td>\n",
              "      <td>0.00</td>\n",
              "    </tr>\n",
              "    <tr>\n",
              "      <th>478</th>\n",
              "      <td>7</td>\n",
              "      <td>4</td>\n",
              "      <td>7</td>\n",
              "      <td>7</td>\n",
              "      <td>93.7</td>\n",
              "      <td>101.3</td>\n",
              "      <td>423.4</td>\n",
              "      <td>14.7</td>\n",
              "      <td>18.2</td>\n",
              "      <td>82</td>\n",
              "      <td>4.5</td>\n",
              "      <td>0.0</td>\n",
              "      <td>2.21</td>\n",
              "    </tr>\n",
              "    <tr>\n",
              "      <th>362</th>\n",
              "      <td>7</td>\n",
              "      <td>4</td>\n",
              "      <td>9</td>\n",
              "      <td>5</td>\n",
              "      <td>88.2</td>\n",
              "      <td>55.2</td>\n",
              "      <td>732.3</td>\n",
              "      <td>11.6</td>\n",
              "      <td>15.2</td>\n",
              "      <td>64</td>\n",
              "      <td>3.1</td>\n",
              "      <td>0.0</td>\n",
              "      <td>0.52</td>\n",
              "    </tr>\n",
              "    <tr>\n",
              "      <th>378</th>\n",
              "      <td>6</td>\n",
              "      <td>5</td>\n",
              "      <td>3</td>\n",
              "      <td>4</td>\n",
              "      <td>90.9</td>\n",
              "      <td>18.9</td>\n",
              "      <td>30.6</td>\n",
              "      <td>8.0</td>\n",
              "      <td>8.7</td>\n",
              "      <td>51</td>\n",
              "      <td>5.8</td>\n",
              "      <td>0.0</td>\n",
              "      <td>0.00</td>\n",
              "    </tr>\n",
              "    <tr>\n",
              "      <th>77</th>\n",
              "      <td>1</td>\n",
              "      <td>3</td>\n",
              "      <td>3</td>\n",
              "      <td>1</td>\n",
              "      <td>87.6</td>\n",
              "      <td>52.2</td>\n",
              "      <td>103.8</td>\n",
              "      <td>5.0</td>\n",
              "      <td>8.3</td>\n",
              "      <td>72</td>\n",
              "      <td>3.1</td>\n",
              "      <td>0.0</td>\n",
              "      <td>0.00</td>\n",
              "    </tr>\n",
              "  </tbody>\n",
              "</table>\n",
              "</div>"
            ],
            "text/plain": [
              "     X  Y  month  day  FFMC    DMC     DC   ISI  temp  RH  wind  rain  area\n",
              "84   1  2      8    4  91.7  114.3  661.3   6.3  20.2  45   3.6   0.0  0.00\n",
              "478  7  4      7    7  93.7  101.3  423.4  14.7  18.2  82   4.5   0.0  2.21\n",
              "362  7  4      9    5  88.2   55.2  732.3  11.6  15.2  64   3.1   0.0  0.52\n",
              "378  6  5      3    4  90.9   18.9   30.6   8.0   8.7  51   5.8   0.0  0.00\n",
              "77   1  3      3    1  87.6   52.2  103.8   5.0   8.3  72   3.1   0.0  0.00"
            ]
          },
          "metadata": {
            "tags": []
          },
          "execution_count": 118
        }
      ]
    },
    {
      "cell_type": "code",
      "metadata": {
        "id": "KBg2uwx9Ew33",
        "colab_type": "code",
        "colab": {
          "base_uri": "https://localhost:8080/",
          "height": 379
        },
        "outputId": "b426c4f7-e800-4cad-e5a1-03becbf9f980"
      },
      "source": [
        "work_set.plot(kind='scatter', x='X',y= 'Y', alpha =0.1, s=120)"
      ],
      "execution_count": 119,
      "outputs": [
        {
          "output_type": "execute_result",
          "data": {
            "text/plain": [
              "<matplotlib.axes._subplots.AxesSubplot at 0x7f00213f26a0>"
            ]
          },
          "metadata": {
            "tags": []
          },
          "execution_count": 119
        },
        {
          "output_type": "display_data",
          "data": {
            "image/png": "[encoded data removed]",
            "text/plain": [
              "<Figure size 576x396 with 1 Axes>"
            ]
          },
          "metadata": {
            "tags": []
          }
        }
      ]
    },
    {
      "cell_type": "code",
      "metadata": {
        "id": "Rs0-kIUQPnKK",
        "colab_type": "code",
        "colab": {}
      },
      "source": [
        "# Extracting featuresfrom the dataset\n",
        "\n",
        "# converting to list\n",
        "x_values = list(work_set['X'])\n",
        "y_values = list(work_set['Y'])\n",
        "\n",
        "loc_values = []\n",
        "\n",
        "for index in range(0, len(x_values)):\n",
        "    temp_value = []\n",
        "    temp_value.append(x_values[index])\n",
        "    temp_value.append(y_values[index])\n",
        "    loc_values.append(temp_value)"
      ],
      "execution_count": 0,
      "outputs": []
    },
    {
      "cell_type": "code",
      "metadata": {
        "id": "svhnHxz1Potg",
        "colab_type": "code",
        "colab": {}
      },
      "source": [
        "# counting the instances location in the dataset\n",
        "\n",
        "def count_points(x_points, y_points, scaling_factor):\n",
        "    count_array = []\n",
        "    \n",
        "    for index in range(0, len(x_points)):\n",
        "        temp_value = [x_points[index], y_points[index]]\n",
        "        count = 0\n",
        "        \n",
        "        for value in loc_values:\n",
        "            if(temp_value == value):\n",
        "                count = count + 1\n",
        "        count_array.append(count * scaling_factor )\n",
        "\n",
        "    return count_array"
      ],
      "execution_count": 0,
      "outputs": []
    },
    {
      "cell_type": "code",
      "metadata": {
        "id": "rfNRtE1xPwql",
        "colab_type": "code",
        "colab": {
          "base_uri": "https://localhost:8080/",
          "height": 202
        },
        "outputId": "10e2d7a5-734c-4f60-9db7-52b38c5491ae"
      },
      "source": [
        "work_set.head()"
      ],
      "execution_count": 122,
      "outputs": [
        {
          "output_type": "execute_result",
          "data": {
            "text/html": [
              "<div>\n",
              "<style scoped>\n",
              "    .dataframe tbody tr th:only-of-type {\n",
              "        vertical-align: middle;\n",
              "    }\n",
              "\n",
              "    .dataframe tbody tr th {\n",
              "        vertical-align: top;\n",
              "    }\n",
              "\n",
              "    .dataframe thead th {\n",
              "        text-align: right;\n",
              "    }\n",
              "</style>\n",
              "<table border=\"1\" class=\"dataframe\">\n",
              "  <thead>\n",
              "    <tr style=\"text-align: right;\">\n",
              "      <th></th>\n",
              "      <th>X</th>\n",
              "      <th>Y</th>\n",
              "      <th>month</th>\n",
              "      <th>day</th>\n",
              "      <th>FFMC</th>\n",
              "      <th>DMC</th>\n",
              "      <th>DC</th>\n",
              "      <th>ISI</th>\n",
              "      <th>temp</th>\n",
              "      <th>RH</th>\n",
              "      <th>wind</th>\n",
              "      <th>rain</th>\n",
              "      <th>area</th>\n",
              "    </tr>\n",
              "  </thead>\n",
              "  <tbody>\n",
              "    <tr>\n",
              "      <th>131</th>\n",
              "      <td>4</td>\n",
              "      <td>6</td>\n",
              "      <td>3</td>\n",
              "      <td>1</td>\n",
              "      <td>87.2</td>\n",
              "      <td>23.9</td>\n",
              "      <td>64.7</td>\n",
              "      <td>4.1</td>\n",
              "      <td>14.0</td>\n",
              "      <td>39</td>\n",
              "      <td>3.1</td>\n",
              "      <td>0.0</td>\n",
              "      <td>0.00</td>\n",
              "    </tr>\n",
              "    <tr>\n",
              "      <th>264</th>\n",
              "      <td>4</td>\n",
              "      <td>4</td>\n",
              "      <td>8</td>\n",
              "      <td>5</td>\n",
              "      <td>94.3</td>\n",
              "      <td>167.6</td>\n",
              "      <td>684.4</td>\n",
              "      <td>13.0</td>\n",
              "      <td>21.8</td>\n",
              "      <td>53</td>\n",
              "      <td>3.1</td>\n",
              "      <td>0.0</td>\n",
              "      <td>6.54</td>\n",
              "    </tr>\n",
              "    <tr>\n",
              "      <th>212</th>\n",
              "      <td>7</td>\n",
              "      <td>4</td>\n",
              "      <td>9</td>\n",
              "      <td>5</td>\n",
              "      <td>94.3</td>\n",
              "      <td>85.1</td>\n",
              "      <td>692.3</td>\n",
              "      <td>15.9</td>\n",
              "      <td>20.1</td>\n",
              "      <td>47</td>\n",
              "      <td>4.9</td>\n",
              "      <td>0.0</td>\n",
              "      <td>26.13</td>\n",
              "    </tr>\n",
              "    <tr>\n",
              "      <th>12</th>\n",
              "      <td>6</td>\n",
              "      <td>5</td>\n",
              "      <td>8</td>\n",
              "      <td>5</td>\n",
              "      <td>63.5</td>\n",
              "      <td>70.8</td>\n",
              "      <td>665.3</td>\n",
              "      <td>0.8</td>\n",
              "      <td>17.0</td>\n",
              "      <td>72</td>\n",
              "      <td>6.7</td>\n",
              "      <td>0.0</td>\n",
              "      <td>0.00</td>\n",
              "    </tr>\n",
              "    <tr>\n",
              "      <th>183</th>\n",
              "      <td>7</td>\n",
              "      <td>4</td>\n",
              "      <td>10</td>\n",
              "      <td>1</td>\n",
              "      <td>91.7</td>\n",
              "      <td>48.5</td>\n",
              "      <td>696.1</td>\n",
              "      <td>11.1</td>\n",
              "      <td>16.8</td>\n",
              "      <td>45</td>\n",
              "      <td>4.5</td>\n",
              "      <td>0.0</td>\n",
              "      <td>6.83</td>\n",
              "    </tr>\n",
              "  </tbody>\n",
              "</table>\n",
              "</div>"
            ],
            "text/plain": [
              "     X  Y  month  day  FFMC    DMC     DC   ISI  temp  RH  wind  rain   area\n",
              "131  4  6      3    1  87.2   23.9   64.7   4.1  14.0  39   3.1   0.0   0.00\n",
              "264  4  4      8    5  94.3  167.6  684.4  13.0  21.8  53   3.1   0.0   6.54\n",
              "212  7  4      9    5  94.3   85.1  692.3  15.9  20.1  47   4.9   0.0  26.13\n",
              "12   6  5      8    5  63.5   70.8  665.3   0.8  17.0  72   6.7   0.0   0.00\n",
              "183  7  4     10    1  91.7   48.5  696.1  11.1  16.8  45   4.5   0.0   6.83"
            ]
          },
          "metadata": {
            "tags": []
          },
          "execution_count": 122
        }
      ]
    },
    {
      "cell_type": "code",
      "metadata": {
        "id": "KAddyxwpEw6x",
        "colab_type": "code",
        "colab": {
          "base_uri": "https://localhost:8080/",
          "height": 644
        },
        "outputId": "81cca866-dea5-431b-983d-084ca90a9d33"
      },
      "source": [
        "from pandas.plotting import scatter_matrix\n",
        "attributes= ['RH']\n",
        "scatter_matrix(work_set[attributes], figsize=(15,10))"
      ],
      "execution_count": 123,
      "outputs": [
        {
          "output_type": "execute_result",
          "data": {
            "text/plain": [
              "array([[<matplotlib.axes._subplots.AxesSubplot object at 0x7f0020f3d940>]],\n",
              "      dtype=object)"
            ]
          },
          "metadata": {
            "tags": []
          },
          "execution_count": 123
        },
        {
          "output_type": "display_data",
          "data": {
            "image/png": "[encoded data removed]",
            "text/plain": [
              "<Figure size 1080x720 with 1 Axes>"
            ]
          },
          "metadata": {
            "tags": []
          }
        }
      ]
    },
    {
      "cell_type": "code",
      "metadata": {
        "id": "WHkdwJO0Ew9p",
        "colab_type": "code",
        "colab": {
          "base_uri": "https://localhost:8080/",
          "height": 648
        },
        "outputId": "67690325-ab8a-4865-bb34-638e7e658113"
      },
      "source": [
        "attributes = ['area']\n",
        "scatter_matrix(work_set[attributes],figsize=(15,10))\n"
      ],
      "execution_count": 124,
      "outputs": [
        {
          "output_type": "execute_result",
          "data": {
            "text/plain": [
              "array([[<matplotlib.axes._subplots.AxesSubplot object at 0x7f0020ea9f28>]],\n",
              "      dtype=object)"
            ]
          },
          "metadata": {
            "tags": []
          },
          "execution_count": 124
        },
        {
          "output_type": "display_data",
          "data": {
            "image/png": "[encoded data removed]",
            "text/plain": [
              "<Figure size 1080x720 with 1 Axes>"
            ]
          },
          "metadata": {
            "tags": []
          }
        }
      ]
    },
    {
      "cell_type": "code",
      "metadata": {
        "id": "irTQ7cvWExAy",
        "colab_type": "code",
        "colab": {
          "base_uri": "https://localhost:8080/",
          "height": 644
        },
        "outputId": "041f478e-17f1-400f-eba7-5cd7ea933716"
      },
      "source": [
        "attributes = ['DMC']\n",
        "scatter_matrix(work_set[attributes],figsize=(15,10))\n"
      ],
      "execution_count": 125,
      "outputs": [
        {
          "output_type": "execute_result",
          "data": {
            "text/plain": [
              "array([[<matplotlib.axes._subplots.AxesSubplot object at 0x7f0020e3d080>]],\n",
              "      dtype=object)"
            ]
          },
          "metadata": {
            "tags": []
          },
          "execution_count": 125
        },
        {
          "output_type": "display_data",
          "data": {
            "image/png": "[encoded data removed]",
            "text/plain": [
              "<Figure size 1080x720 with 1 Axes>"
            ]
          },
          "metadata": {
            "tags": []
          }
        }
      ]
    },
    {
      "cell_type": "code",
      "metadata": {
        "id": "frjvprH3ExFl",
        "colab_type": "code",
        "colab": {
          "base_uri": "https://localhost:8080/",
          "height": 640
        },
        "outputId": "a66e326a-c8fc-4810-af0b-511519475d9c"
      },
      "source": [
        "attributes = ['temp']\n",
        "scatter_matrix(work_set[attributes],figsize=(15,10))\n"
      ],
      "execution_count": 126,
      "outputs": [
        {
          "output_type": "execute_result",
          "data": {
            "text/plain": [
              "array([[<matplotlib.axes._subplots.AxesSubplot object at 0x7f00217e3208>]],\n",
              "      dtype=object)"
            ]
          },
          "metadata": {
            "tags": []
          },
          "execution_count": 126
        },
        {
          "output_type": "display_data",
          "data": {
            "image/png": "[encoded data removed]",
            "text/plain": [
              "<Figure size 1080x720 with 1 Axes>"
            ]
          },
          "metadata": {
            "tags": []
          }
        }
      ]
    },
    {
      "cell_type": "markdown",
      "metadata": {
        "id": "uvyYKXPmISd7",
        "colab_type": "text"
      },
      "source": [
        "# Lets find unique value "
      ]
    },
    {
      "cell_type": "code",
      "metadata": {
        "id": "R-0B1pY1ExI1",
        "colab_type": "code",
        "colab": {
          "base_uri": "https://localhost:8080/",
          "height": 35
        },
        "outputId": "02fc4053-73f4-4baf-f046-cd8762410e4b"
      },
      "source": [
        "df['month'].unique()"
      ],
      "execution_count": 127,
      "outputs": [
        {
          "output_type": "execute_result",
          "data": {
            "text/plain": [
              "array([ 3, 10,  8,  9,  4,  6,  7,  2,  1, 12,  5, 11])"
            ]
          },
          "metadata": {
            "tags": []
          },
          "execution_count": 127
        }
      ]
    },
    {
      "cell_type": "code",
      "metadata": {
        "id": "7FlTfvTXExLw",
        "colab_type": "code",
        "colab": {
          "base_uri": "https://localhost:8080/",
          "height": 35
        },
        "outputId": "57b0067f-5ea7-4cf1-f7fb-94135ca74101"
      },
      "source": [
        "df['day'].unique()"
      ],
      "execution_count": 128,
      "outputs": [
        {
          "output_type": "execute_result",
          "data": {
            "text/plain": [
              "array([5, 2, 6, 7, 1, 3, 4])"
            ]
          },
          "metadata": {
            "tags": []
          },
          "execution_count": 128
        }
      ]
    },
    {
      "cell_type": "code",
      "metadata": {
        "id": "wTzWZLWUExER",
        "colab_type": "code",
        "colab": {
          "base_uri": "https://localhost:8080/",
          "height": 901
        },
        "outputId": "df29941a-ef6a-4244-e79c-db0738213969"
      },
      "source": [
        "df['area'].unique()"
      ],
      "execution_count": 129,
      "outputs": [
        {
          "output_type": "execute_result",
          "data": {
            "text/plain": [
              "array([0.00000e+00, 3.60000e-01, 4.30000e-01, 4.70000e-01, 5.50000e-01,\n",
              "       6.10000e-01, 7.10000e-01, 7.70000e-01, 9.00000e-01, 9.50000e-01,\n",
              "       9.60000e-01, 1.07000e+00, 1.12000e+00, 1.19000e+00, 1.36000e+00,\n",
              "       1.43000e+00, 1.46000e+00, 1.56000e+00, 1.61000e+00, 1.63000e+00,\n",
              "       1.64000e+00, 1.69000e+00, 1.75000e+00, 1.90000e+00, 1.94000e+00,\n",
              "       1.95000e+00, 2.01000e+00, 2.14000e+00, 2.29000e+00, 2.51000e+00,\n",
              "       2.53000e+00, 2.55000e+00, 2.57000e+00, 2.69000e+00, 2.74000e+00,\n",
              "       3.07000e+00, 3.50000e+00, 4.53000e+00, 4.61000e+00, 4.69000e+00,\n",
              "       4.88000e+00, 5.23000e+00, 5.33000e+00, 5.44000e+00, 6.38000e+00,\n",
              "       6.83000e+00, 6.96000e+00, 7.04000e+00, 7.19000e+00, 7.30000e+00,\n",
              "       7.40000e+00, 8.24000e+00, 8.31000e+00, 8.68000e+00, 8.71000e+00,\n",
              "       9.41000e+00, 1.00100e+01, 1.00200e+01, 1.09300e+01, 1.10600e+01,\n",
              "       1.12400e+01, 1.13200e+01, 1.15300e+01, 1.21000e+01, 1.30500e+01,\n",
              "       1.37000e+01, 1.39900e+01, 1.45700e+01, 1.54500e+01, 1.72000e+01,\n",
              "       1.92300e+01, 2.34100e+01, 2.42300e+01, 2.60000e+01, 2.61300e+01,\n",
              "       2.73500e+01, 2.86600e+01, 2.94800e+01, 3.03200e+01, 3.17200e+01,\n",
              "       3.18600e+01, 3.20700e+01, 3.58800e+01, 3.68500e+01, 3.70200e+01,\n",
              "       3.77100e+01, 4.85500e+01, 4.93700e+01, 5.83000e+01, 6.41000e+01,\n",
              "       7.13000e+01, 8.84900e+01, 9.51800e+01, 1.03390e+02, 1.05660e+02,\n",
              "       1.54880e+02, 1.96480e+02, 2.00940e+02, 2.12880e+02, 1.09084e+03,\n",
              "       1.01300e+01, 2.87000e+00, 7.60000e-01, 9.00000e-02, 7.50000e-01,\n",
              "       2.47000e+00, 6.80000e-01, 2.40000e-01, 2.10000e-01, 1.52000e+00,\n",
              "       1.03400e+01, 8.02000e+00, 1.38000e+00, 8.85000e+00, 3.30000e+00,\n",
              "       4.25000e+00, 6.54000e+00, 7.90000e-01, 1.70000e-01, 4.40000e+00,\n",
              "       5.20000e-01, 9.27000e+00, 3.09000e+00, 8.98000e+00, 1.11900e+01,\n",
              "       5.38000e+00, 1.78500e+01, 1.07300e+01, 2.20300e+01, 9.77000e+00,\n",
              "       2.47700e+01, 1.10000e+00, 2.42400e+01, 8.00000e+00, 2.64000e+00,\n",
              "       8.64500e+01, 6.57000e+00, 3.52000e+00, 4.10000e-01, 5.18000e+00,\n",
              "       1.42900e+01, 1.58000e+00, 3.78000e+00, 4.41000e+00, 3.43600e+01,\n",
              "       7.21000e+00, 1.01000e+00, 2.18000e+00, 4.42000e+00, 3.33000e+00,\n",
              "       6.58000e+00, 1.56400e+01, 1.12200e+01, 2.13000e+00, 5.60400e+01,\n",
              "       7.48000e+00, 1.47000e+00, 3.93000e+00, 6.10000e+00, 5.83000e+00,\n",
              "       2.81900e+01, 3.71000e+00, 7.31000e+00, 2.03000e+00, 1.72000e+00,\n",
              "       5.97000e+00, 1.30600e+01, 1.26000e+00, 8.12000e+00, 1.09000e+00,\n",
              "       3.94000e+00, 2.93000e+00, 5.65000e+00, 2.00300e+01, 1.26400e+01,\n",
              "       1.83000e+01, 3.93500e+01, 1.74630e+02, 7.73000e+00, 1.63300e+01,\n",
              "       5.86000e+00, 4.28700e+01, 1.21800e+01, 1.60000e+01, 2.45900e+01,\n",
              "       2.87400e+01, 9.96000e+00, 3.01800e+01, 7.07600e+01, 5.17800e+01,\n",
              "       3.64000e+00, 3.63000e+00, 8.16000e+00, 4.95000e+00, 6.04000e+00,\n",
              "       3.95000e+00, 7.80000e+00, 4.62000e+00, 7.46280e+02, 7.02000e+00,\n",
              "       2.44000e+00, 3.05000e+00, 1.85760e+02, 6.30000e+00, 7.20000e-01,\n",
              "       4.96000e+00, 2.35000e+00, 3.20000e+00, 6.36000e+00, 1.53400e+01,\n",
              "       5.40000e-01, 6.43000e+00, 3.30000e-01, 1.23000e+00, 3.35000e+00,\n",
              "       9.71000e+00, 8.27500e+01, 3.32000e+00, 5.39000e+00, 6.84000e+00,\n",
              "       3.18000e+00, 5.55000e+00, 6.61000e+00, 6.11300e+01, 3.84800e+01,\n",
              "       7.03200e+01, 1.00800e+01, 3.19000e+00, 1.76000e+00, 7.36000e+00,\n",
              "       2.21000e+00, 2.78530e+02, 2.75000e+00, 1.29000e+00, 2.64300e+01,\n",
              "       2.07000e+00, 2.00000e+00, 1.64000e+01, 4.67000e+01, 4.33200e+01,\n",
              "       8.59000e+00, 2.77000e+00, 1.46800e+01, 4.05400e+01, 1.08200e+01,\n",
              "       4.95900e+01, 5.80000e+00, 2.17000e+00, 6.44000e+00, 5.42900e+01,\n",
              "       1.11600e+01])"
            ]
          },
          "metadata": {
            "tags": []
          },
          "execution_count": 129
        }
      ]
    },
    {
      "cell_type": "code",
      "metadata": {
        "id": "4RW_r1HwPQXi",
        "colab_type": "code",
        "colab": {}
      },
      "source": [
        ""
      ],
      "execution_count": 0,
      "outputs": []
    },
    {
      "cell_type": "markdown",
      "metadata": {
        "id": "IDZvnNXJJs8S",
        "colab_type": "text"
      },
      "source": [
        "Lets define the method for plotting the graph\n",
        " "
      ]
    },
    {
      "cell_type": "code",
      "metadata": {
        "id": "-aJqKVCwJV-v",
        "colab_type": "code",
        "colab": {}
      },
      "source": [
        "def histogram_plot(db, title):\n",
        "    plt.figure(figsize=(8, 6))    \n",
        "    \n",
        "    ax = plt.subplot()    \n",
        "    ax.spines[\"top\"].set_visible(False)    \n",
        "    ax.spines[\"bottom\"].set_visible(False)    \n",
        "    ax.spines[\"right\"].set_visible(False)    \n",
        "    ax.spines[\"left\"].set_visible(False)\n",
        "    \n",
        "    ax.get_xaxis().tick_bottom()\n",
        "    ax.get_yaxis().tick_left() \n",
        "    \n",
        "    plt.title(title, fontsize = 22)\n",
        "    plt.hist(db, edgecolor='black', linewidth=1.2)\n",
        "    plt.show()"
      ],
      "execution_count": 0,
      "outputs": []
    },
    {
      "cell_type": "markdown",
      "metadata": {
        "id": "a-0Ia8UmKzpm",
        "colab_type": "text"
      },
      "source": [
        ""
      ]
    },
    {
      "cell_type": "code",
      "metadata": {
        "id": "bIp2L4QjKz6t",
        "colab_type": "code",
        "colab": {
          "base_uri": "https://localhost:8080/",
          "height": 396
        },
        "outputId": "4a16d623-43a7-4842-8b50-326840f22404"
      },
      "source": [
        "plt.figure(figsize=(8, 6))    \n",
        "    \n",
        "ax = plt.subplot()    \n",
        "ax.spines[\"top\"].set_visible(False)    \n",
        "ax.spines[\"bottom\"].set_visible(False)    \n",
        "ax.spines[\"right\"].set_visible(False)    \n",
        "ax.spines[\"left\"].set_visible(False)\n",
        "    \n",
        "ax.get_xaxis().tick_bottom()\n",
        "ax.get_yaxis().tick_left() \n",
        "    \n",
        "plt.title(\"Fire location plot\", fontsize = 22)\n",
        "plt.scatter(x_values, y_values, s = count_points(x_values, y_values, 25), alpha = 0.3)\n",
        "plt.show()"
      ],
      "execution_count": 131,
      "outputs": [
        {
          "output_type": "display_data",
          "data": {
            "image/png": "[encoded data removed]",
            "text/plain": [
              "<Figure size 576x432 with 1 Axes>"
            ]
          },
          "metadata": {
            "tags": []
          }
        }
      ]
    },
    {
      "cell_type": "code",
      "metadata": {
        "id": "5IhmHAIMQHdk",
        "colab_type": "code",
        "colab": {}
      },
      "source": [
        "# Standardizing the data (Feature Scaling) so that all the features are of the same scale\n",
        "from sklearn.preprocessing import StandardScaler\n",
        "\n",
        "scaler = StandardScaler()\n",
        "\n",
        "numerical_features = df.drop(['month', 'day'], axis=1)\n",
        "scaled_features = scaler.fit_transform(numerical_features)"
      ],
      "execution_count": 0,
      "outputs": []
    },
    {
      "cell_type": "code",
      "metadata": {
        "id": "ip1B1zi8QHg5",
        "colab_type": "code",
        "colab": {
          "base_uri": "https://localhost:8080/",
          "height": 243
        },
        "outputId": "79c42822-9f2f-4567-8560-e9ff3f223d69"
      },
      "source": [
        "scaled_features"
      ],
      "execution_count": 133,
      "outputs": [
        {
          "output_type": "execute_result",
          "data": {
            "text/plain": [
              "array([[ 1.00831277,  0.56986043, -0.80595947, ...,  1.49861442,\n",
              "        -0.07326831, -0.20201979],\n",
              "       [ 1.00831277, -0.24400101, -0.00810203, ..., -1.74175564,\n",
              "        -0.07326831, -0.20201979],\n",
              "       [ 1.00831277, -0.24400101, -0.00810203, ..., -1.51828184,\n",
              "        -0.07326831, -0.20201979],\n",
              "       ...,\n",
              "       [ 1.00831277, -0.24400101, -1.64008316, ...,  1.49861442,\n",
              "        -0.07326831, -0.02653216],\n",
              "       [-1.58736044, -0.24400101,  0.68095666, ..., -0.00983371,\n",
              "        -0.07326831, -0.20201979],\n",
              "       [ 0.57570057, -1.05786246, -2.02087875, ...,  0.26950853,\n",
              "        -0.07326831, -0.20201979]])"
            ]
          },
          "metadata": {
            "tags": []
          },
          "execution_count": 133
        }
      ]
    },
    {
      "cell_type": "code",
      "metadata": {
        "id": "150TGAFvQHjX",
        "colab_type": "code",
        "colab": {}
      },
      "source": [
        "from sklearn.base import BaseEstimator, TransformerMixin\n",
        "\n",
        "# defining the methods  for the AttributeSelector\n",
        "class AttributeSelector(BaseEstimator, TransformerMixin):\n",
        "    def __init__(self, attribute_names):\n",
        "        self.attribute_names = attribute_names\n",
        "\n",
        "    def fit(self, X, y=None):\n",
        "        return self\n",
        "\n",
        "    def transform(self, X):\n",
        "        return X[self.attribute_names].values"
      ],
      "execution_count": 0,
      "outputs": []
    },
    {
      "cell_type": "code",
      "metadata": {
        "id": "B-_4uifiQHmh",
        "colab_type": "code",
        "colab": {}
      },
      "source": [
        "from sklearn.preprocessing import MultiLabelBinarizer\n",
        "# defining the methods  for the CustomBinarizer\n",
        "class CustomBinarizer(BaseEstimator, TransformerMixin):\n",
        "    def __init__(self, class_labels):\n",
        "        self.class_labels = class_labels\n",
        "    def fit(self, X, y=None,**fit_params):\n",
        "        return self\n",
        "    def transform(self, X):\n",
        "        return MultiLabelBinarizer(classes=self.class_labels).fit_transform(X)"
      ],
      "execution_count": 0,
      "outputs": []
    },
    {
      "cell_type": "code",
      "metadata": {
        "id": "tEw91jACQblj",
        "colab_type": "code",
        "colab": {}
      },
      "source": [
        "from sklearn.pipeline import Pipeline\n",
        "\n",
        "\n",
        "numerical_attributes = ['X', 'Y', 'FFMC', 'DMC', 'DC', 'ISI', 'temp', 'RH', 'wind', 'rain'] # Selecting the numerical columns\n",
        "categorical_attributes = ['month', 'day'] # # Selecting the categorical columns\n",
        "categorical_classes = np.concatenate((df['month'].unique(), df['day'].unique()), axis=0)\n",
        "\n",
        "# creating the separate numerical and categorical pipelines\n",
        "numerical_pipeline = Pipeline([\n",
        "    ('selector', AttributeSelector(numerical_attributes)),\n",
        "    ('standardize', StandardScaler()),\n",
        "])\n",
        "categorical_pipeline = Pipeline([\n",
        "    ('selector', AttributeSelector(categorical_attributes)),\n",
        "    ('encode', CustomBinarizer(categorical_classes)),\n",
        "])"
      ],
      "execution_count": 0,
      "outputs": []
    },
    {
      "cell_type": "code",
      "metadata": {
        "id": "_9fpoc0dQbo9",
        "colab_type": "code",
        "colab": {
          "base_uri": "https://localhost:8080/",
          "height": 396
        },
        "outputId": "66c9cc51-3e72-4936-97aa-36aaefafb59b"
      },
      "source": [
        "#FFMC distrubution\n",
        "#  Creating Histogram based on FFMC attribute\n",
        "histogram_plot(df['FFMC'], title = \"FFMC distribution\")\n",
        "plt.show()"
      ],
      "execution_count": 137,
      "outputs": [
        {
          "output_type": "display_data",
          "data": {
            "image/png": "[encoded data removed]",
            "text/plain": [
              "<Figure size 576x432 with 1 Axes>"
            ]
          },
          "metadata": {
            "tags": []
          }
        }
      ]
    },
    {
      "cell_type": "code",
      "metadata": {
        "id": "y5c6hh2QQHra",
        "colab_type": "code",
        "colab": {
          "base_uri": "https://localhost:8080/",
          "height": 396
        },
        "outputId": "fe3da325-5505-45a7-8610-85f9c4130677"
      },
      "source": [
        "#DC distrubution\n",
        "#  Creating Histogram based on DC attribute \n",
        "histogram_plot(df['DC'], title = \"DC distribution\")\n",
        "plt.show()"
      ],
      "execution_count": 138,
      "outputs": [
        {
          "output_type": "display_data",
          "data": {
            "image/png": "[encoded data removed]",
            "text/plain": [
              "<Figure size 576x432 with 1 Axes>"
            ]
          },
          "metadata": {
            "tags": []
          }
        }
      ]
    },
    {
      "cell_type": "code",
      "metadata": {
        "id": "5qIiYr7DQpGl",
        "colab_type": "code",
        "colab": {}
      },
      "source": [
        "#  Separating the features and labels into X and Y\n",
        "X = df.iloc[:,[0,1,2,3,4,5,6,7,8,9,10,11]].values\n",
        "Y = df.iloc[:, 11].values"
      ],
      "execution_count": 0,
      "outputs": []
    },
    {
      "cell_type": "code",
      "metadata": {
        "id": "Yd41gN_rQpJF",
        "colab_type": "code",
        "colab": {}
      },
      "source": [
        "# Separating the test and training set\n",
        "train_x, test_x, train_y, test_y = train_test_split(X,Y, test_size=0.3, random_state = 9)\n",
        "mse_values = []\n",
        "variance_score = []"
      ],
      "execution_count": 0,
      "outputs": []
    },
    {
      "cell_type": "code",
      "metadata": {
        "id": "PCGCGJWlQpNN",
        "colab_type": "code",
        "colab": {
          "base_uri": "https://localhost:8080/",
          "height": 139
        },
        "outputId": "c17f0948-6f6f-4c07-d0d1-81649eaec4b5"
      },
      "source": [
        "train_x"
      ],
      "execution_count": 141,
      "outputs": [
        {
          "output_type": "execute_result",
          "data": {
            "text/plain": [
              "array([[ 7. ,  4. ,  9. , ..., 44. ,  2.2,  0. ],\n",
              "       [ 4. ,  3. ,  8. , ..., 42. ,  4.9,  0. ],\n",
              "       [ 1. ,  5. ,  9. , ..., 27. ,  3.1,  0. ],\n",
              "       ...,\n",
              "       [ 7. ,  5. ,  8. , ..., 65. ,  4.9,  0.8],\n",
              "       [ 3. ,  4. ,  9. , ..., 57. ,  4.5,  0. ],\n",
              "       [ 8. ,  6. ,  8. , ..., 29. ,  1.8,  0. ]])"
            ]
          },
          "metadata": {
            "tags": []
          },
          "execution_count": 141
        }
      ]
    },
    {
      "cell_type": "code",
      "metadata": {
        "id": "sKeJiXOYQvi4",
        "colab_type": "code",
        "colab": {
          "base_uri": "https://localhost:8080/",
          "height": 503
        },
        "outputId": "40465400-19e4-4e27-a666-f84ebebd885a"
      },
      "source": [
        "train_y"
      ],
      "execution_count": 142,
      "outputs": [
        {
          "output_type": "execute_result",
          "data": {
            "text/plain": [
              "array([0. , 0. , 0. , 0. , 0. , 0. , 0. , 0. , 0. , 0. , 0. , 0. , 0. ,\n",
              "       0. , 0. , 0. , 0. , 0. , 0. , 0. , 0. , 0. , 0. , 0. , 0. , 0. ,\n",
              "       0. , 0. , 0. , 0. , 6.4, 0. , 0. , 0. , 0. , 0. , 0. , 0. , 0. ,\n",
              "       0. , 0. , 0. , 0. , 0. , 0. , 0. , 0. , 0. , 0. , 0. , 0. , 0. ,\n",
              "       0. , 0. , 0. , 0. , 0. , 0. , 0. , 0. , 0. , 0. , 0. , 0. , 0. ,\n",
              "       0. , 0. , 0. , 0. , 0. , 0. , 0. , 0. , 0. , 0. , 0. , 0. , 0. ,\n",
              "       0. , 0. , 0. , 0. , 0. , 0. , 0. , 0. , 0. , 0. , 0. , 0. , 0. ,\n",
              "       0. , 0. , 0. , 0. , 0. , 0. , 0. , 0. , 0. , 0. , 0. , 0. , 0. ,\n",
              "       0. , 0. , 0. , 0. , 0. , 0. , 0. , 0. , 0. , 0. , 0. , 0. , 0. ,\n",
              "       0. , 0. , 0. , 0. , 0. , 0. , 0. , 0. , 0. , 0. , 0. , 0. , 0. ,\n",
              "       0. , 0.2, 0. , 0. , 0. , 0. , 0. , 0. , 0. , 0. , 0. , 0. , 0. ,\n",
              "       0. , 0. , 0. , 0. , 0. , 0. , 0. , 0. , 0. , 0. , 0. , 0. , 0. ,\n",
              "       0. , 0. , 0. , 0. , 0. , 0. , 0. , 0. , 0. , 0. , 0. , 0. , 0. ,\n",
              "       0. , 0. , 0. , 0. , 0. , 0. , 0. , 0. , 0. , 0. , 0. , 0. , 0. ,\n",
              "       0. , 0. , 0. , 0. , 0. , 0. , 0. , 0. , 0. , 0. , 0. , 0. , 0. ,\n",
              "       0. , 0. , 0. , 0. , 0. , 0. , 0. , 1.4, 0. , 0. , 0. , 0. , 0. ,\n",
              "       0. , 0. , 0. , 0. , 0. , 0. , 0. , 0. , 0. , 0. , 0. , 0. , 0. ,\n",
              "       0. , 0. , 0. , 0. , 1. , 0. , 0. , 0. , 0. , 0. , 0. , 0. , 0. ,\n",
              "       0. , 0. , 0. , 0. , 0. , 0. , 0. , 0. , 0. , 0. , 0. , 0. , 0. ,\n",
              "       0. , 0. , 0. , 0. , 0. , 0.4, 0. , 0. , 0. , 0. , 0. , 0. , 0. ,\n",
              "       0. , 0. , 0. , 0. , 0. , 0. , 0. , 0. , 0. , 0. , 0. , 0. , 0. ,\n",
              "       0. , 0. , 0. , 0. , 0. , 0. , 0. , 0. , 0. , 0. , 0. , 0. , 0. ,\n",
              "       0. , 0. , 0. , 0. , 0. , 0. , 0. , 0. , 0. , 0. , 0. , 0. , 0. ,\n",
              "       0. , 0. , 0. , 0. , 0. , 0. , 0. , 0. , 0. , 0.8, 0. , 0. , 0. ,\n",
              "       0. , 0. , 0. , 0. , 0. , 0. , 0. , 0. , 0. , 0. , 0. , 0. , 0. ,\n",
              "       0. , 0. , 0. , 0. , 0. , 0. , 0. , 0. , 0. , 0. , 0. , 0. , 0. ,\n",
              "       0. , 0. , 0. , 0. , 0. , 0. , 0. , 0. , 0. , 0. , 0. , 0. , 0. ,\n",
              "       0. , 0. , 0. , 0. , 0. , 0. , 0. , 0.8, 0. , 0. ])"
            ]
          },
          "metadata": {
            "tags": []
          },
          "execution_count": 142
        }
      ]
    },
    {
      "cell_type": "markdown",
      "metadata": {
        "id": "mPso5PCEREnx",
        "colab_type": "text"
      },
      "source": [
        "Further algorithm need to be apply"
      ]
    }
  ]
}